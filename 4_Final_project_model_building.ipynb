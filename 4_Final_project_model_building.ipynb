{
 "cells": [
  {
   "cell_type": "markdown",
   "metadata": {},
   "source": [
    "Using a dataset found in UCI website, representing 10 years (1999–2008) of clinical care at 130 US hospitals, I would like to predict if a diabetic patient is at risk of being re-admitted to the hospital after discharge, according to the information contained in this dataset"
   ]
  },
  {
   "cell_type": "markdown",
   "metadata": {},
   "source": [
    "### Import Librairies"
   ]
  },
  {
   "cell_type": "code",
   "execution_count": 39,
   "metadata": {},
   "outputs": [],
   "source": [
    "import pandas as pd\n",
    "import numpy as np\n",
    "import seaborn as sns\n",
    "sns.set()\n",
    "import matplotlib.pyplot as plt\n",
    "%matplotlib inline\n",
    "\n",
    "# Feature selection / PCA / Clustering\n",
    "from sklearn.feature_selection import SelectKBest, f_classif\n",
    "from sklearn.decomposition import PCA\n",
    "from sklearn.cluster import KMeans\n",
    "from yellowbrick.cluster import KElbowVisualizer\n",
    "\n",
    "# Model building / hyperparameters tuning / model evaluation\n",
    "from sklearn.model_selection import train_test_split\n",
    "from sklearn.model_selection import cross_val_score\n",
    "from sklearn.model_selection import RepeatedStratifiedKFold\n",
    "from sklearn.model_selection import StratifiedKFold\n",
    "from imblearn.pipeline import Pipeline\n",
    "from sklearn.linear_model import LogisticRegression\n",
    "from sklearn.neighbors import KNeighborsClassifier\n",
    "from sklearn.tree import DecisionTreeClassifier\n",
    "from sklearn.ensemble import RandomForestClassifier\n",
    "from sklearn.ensemble import GradientBoostingClassifier\n",
    "from xgboost import XGBClassifier\n",
    "from sklearn.ensemble import AdaBoostClassifier\n",
    "from catboost import CatBoostClassifier\n",
    "from sklearn.svm import SVC\n",
    "from sklearn.naive_bayes import GaussianNB\n",
    "from sklearn.metrics import confusion_matrix, accuracy_score, recall_score, f1_score, precision_score, roc_auc_score\n",
    "from pycaret.classification import *\n",
    "from sklearn.model_selection import GridSearchCV\n",
    "from sklearn.model_selection import RandomizedSearchCV\n",
    "\n",
    "# Little viz\n",
    "import shap"
   ]
  },
  {
   "cell_type": "markdown",
   "metadata": {},
   "source": [
    "### Get the cleaned data"
   ]
  },
  {
   "cell_type": "code",
   "execution_count": 2,
   "metadata": {},
   "outputs": [],
   "source": [
    "df=pd.read_csv('3_cleaned_diabetic_data.csv')"
   ]
  },
  {
   "cell_type": "markdown",
   "metadata": {},
   "source": [
    "# Features selection"
   ]
  },
  {
   "cell_type": "markdown",
   "metadata": {},
   "source": [
    "I choose to keep the 10th most important columns to build my model"
   ]
  },
  {
   "cell_type": "code",
   "execution_count": 3,
   "metadata": {},
   "outputs": [],
   "source": [
    "X = df.drop('readmitted', axis=1)\n",
    "y = df.readmitted\n",
    "\n",
    "selector = SelectKBest(f_classif, k=15)\n",
    "\n",
    "X_new = selector.fit_transform(X, y)\n",
    "\n",
    "column_kept = [column[0]  for column in zip(X.columns,selector.get_support()) if column[1]]"
   ]
  },
  {
   "cell_type": "code",
   "execution_count": 4,
   "metadata": {},
   "outputs": [
    {
     "data": {
      "text/plain": [
       "['time_in_hospital',\n",
       " 'num_lab_procedures',\n",
       " 'num_procedures',\n",
       " 'num_medications',\n",
       " 'number_outpatient',\n",
       " 'number_emergency',\n",
       " 'number_inpatient',\n",
       " 'number_diagnoses',\n",
       " 'metformin',\n",
       " 'insulin',\n",
       " 'change',\n",
       " 'diabetesMed',\n",
       " 'Caucasian',\n",
       " 'Other_Race',\n",
       " 'admission_type_id_3']"
      ]
     },
     "execution_count": 4,
     "metadata": {},
     "output_type": "execute_result"
    }
   ],
   "source": [
    "column_kept"
   ]
  },
  {
   "cell_type": "markdown",
   "metadata": {},
   "source": [
    "# Clustering"
   ]
  },
  {
   "cell_type": "markdown",
   "metadata": {},
   "source": [
    "With the deleted columns, I'm building cluters and see later if these clusters are improving my model"
   ]
  },
  {
   "cell_type": "code",
   "execution_count": 5,
   "metadata": {},
   "outputs": [],
   "source": [
    "df_cl = df.drop(column_kept, axis=1).drop('readmitted', axis=1)"
   ]
  },
  {
   "cell_type": "code",
   "execution_count": 6,
   "metadata": {},
   "outputs": [
    {
     "data": {
      "text/plain": [
       "(101732, 21)"
      ]
     },
     "execution_count": 6,
     "metadata": {},
     "output_type": "execute_result"
    }
   ],
   "source": [
    "df_cl.shape"
   ]
  },
  {
   "cell_type": "markdown",
   "metadata": {},
   "source": [
    "## PCA"
   ]
  },
  {
   "cell_type": "markdown",
   "metadata": {},
   "source": [
    "I'm gonna apply PCA to decrease the number of columns to cluster"
   ]
  },
  {
   "cell_type": "code",
   "execution_count": 7,
   "metadata": {},
   "outputs": [
    {
     "data": {
      "text/plain": [
       "array([0.20378661, 0.16000736, 0.10327146, 0.08582321, 0.08004656,\n",
       "       0.07363201, 0.06459116])"
      ]
     },
     "execution_count": 7,
     "metadata": {},
     "output_type": "execute_result"
    }
   ],
   "source": [
    "pca=PCA(7)\n",
    "pca.fit(df_cl)\n",
    "pca.explained_variance_ratio_"
   ]
  },
  {
   "cell_type": "code",
   "execution_count": 8,
   "metadata": {},
   "outputs": [
    {
     "data": {
      "text/html": [
       "<div>\n",
       "<style scoped>\n",
       "    .dataframe tbody tr th:only-of-type {\n",
       "        vertical-align: middle;\n",
       "    }\n",
       "\n",
       "    .dataframe tbody tr th {\n",
       "        vertical-align: top;\n",
       "    }\n",
       "\n",
       "    .dataframe thead th {\n",
       "        text-align: right;\n",
       "    }\n",
       "</style>\n",
       "<table border=\"1\" class=\"dataframe\">\n",
       "  <thead>\n",
       "    <tr style=\"text-align: right;\">\n",
       "      <th></th>\n",
       "      <th>PC1</th>\n",
       "      <th>PC2</th>\n",
       "      <th>PC3</th>\n",
       "      <th>PC4</th>\n",
       "      <th>PC5</th>\n",
       "      <th>PC6</th>\n",
       "      <th>PC7</th>\n",
       "    </tr>\n",
       "  </thead>\n",
       "  <tbody>\n",
       "    <tr>\n",
       "      <th>0</th>\n",
       "      <td>0.478036</td>\n",
       "      <td>-0.497666</td>\n",
       "      <td>0.150462</td>\n",
       "      <td>1.114762</td>\n",
       "      <td>0.409893</td>\n",
       "      <td>-0.063092</td>\n",
       "      <td>-0.291030</td>\n",
       "    </tr>\n",
       "    <tr>\n",
       "      <th>1</th>\n",
       "      <td>-0.541996</td>\n",
       "      <td>-0.405358</td>\n",
       "      <td>0.198464</td>\n",
       "      <td>0.257022</td>\n",
       "      <td>0.715860</td>\n",
       "      <td>-0.056595</td>\n",
       "      <td>-0.420048</td>\n",
       "    </tr>\n",
       "    <tr>\n",
       "      <th>2</th>\n",
       "      <td>-0.684436</td>\n",
       "      <td>-0.493984</td>\n",
       "      <td>0.901213</td>\n",
       "      <td>0.216648</td>\n",
       "      <td>0.027798</td>\n",
       "      <td>0.835045</td>\n",
       "      <td>-0.260833</td>\n",
       "    </tr>\n",
       "    <tr>\n",
       "      <th>3</th>\n",
       "      <td>-0.457569</td>\n",
       "      <td>0.580226</td>\n",
       "      <td>0.320787</td>\n",
       "      <td>0.246806</td>\n",
       "      <td>0.650328</td>\n",
       "      <td>-0.072910</td>\n",
       "      <td>-0.446904</td>\n",
       "    </tr>\n",
       "    <tr>\n",
       "      <th>4</th>\n",
       "      <td>-0.446740</td>\n",
       "      <td>0.611377</td>\n",
       "      <td>0.245356</td>\n",
       "      <td>0.218334</td>\n",
       "      <td>0.546610</td>\n",
       "      <td>0.811336</td>\n",
       "      <td>-0.405326</td>\n",
       "    </tr>\n",
       "  </tbody>\n",
       "</table>\n",
       "</div>"
      ],
      "text/plain": [
       "        PC1       PC2       PC3       PC4       PC5       PC6       PC7\n",
       "0  0.478036 -0.497666  0.150462  1.114762  0.409893 -0.063092 -0.291030\n",
       "1 -0.541996 -0.405358  0.198464  0.257022  0.715860 -0.056595 -0.420048\n",
       "2 -0.684436 -0.493984  0.901213  0.216648  0.027798  0.835045 -0.260833\n",
       "3 -0.457569  0.580226  0.320787  0.246806  0.650328 -0.072910 -0.446904\n",
       "4 -0.446740  0.611377  0.245356  0.218334  0.546610  0.811336 -0.405326"
      ]
     },
     "execution_count": 8,
     "metadata": {},
     "output_type": "execute_result"
    }
   ],
   "source": [
    "df_pca=pd.DataFrame(pca.transform(df_cl), columns=['PC'+str(i) for i in range(1,8)])\n",
    "df_pca.head()"
   ]
  },
  {
   "cell_type": "code",
   "execution_count": 9,
   "metadata": {},
   "outputs": [
    {
     "data": {
      "text/plain": [
       "<AxesSubplot:xlabel='PC1', ylabel='PC4'>"
      ]
     },
     "execution_count": 9,
     "metadata": {},
     "output_type": "execute_result"
    },
    {
     "data": {
      "image/png": "[encoded data removed]",
      "text/plain": [
       "<Figure size 576x396 with 1 Axes>"
      ]
     },
     "metadata": {},
     "output_type": "display_data"
    }
   ],
   "source": [
    "sns.scatterplot(data=df_pca, x='PC1', y='PC4')"
   ]
  },
  {
   "cell_type": "markdown",
   "metadata": {},
   "source": [
    "## KMEANS"
   ]
  },
  {
   "cell_type": "code",
   "execution_count": 10,
   "metadata": {},
   "outputs": [
    {
     "name": "stderr",
     "output_type": "stream",
     "text": [
      "No 'knee' or 'elbow point' detected This could be due to bad clustering, no actual clusters being formed etc.\n",
      "No 'knee' or 'elbow' point detected, pass `locate_elbow=False` to remove the warning\n"
     ]
    },
    {
     "data": {
      "image/png": "[encoded data removed]",
      "text/plain": [
       "<Figure size 576x396 with 2 Axes>"
      ]
     },
     "metadata": {},
     "output_type": "display_data"
    },
    {
     "data": {
      "text/plain": [
       "<AxesSubplot:title={'center':'Distortion Score Elbow for KMeans Clustering'}, xlabel='k', ylabel='distortion score'>"
      ]
     },
     "execution_count": 10,
     "metadata": {},
     "output_type": "execute_result"
    }
   ],
   "source": [
    "model = KMeans()\n",
    "visualizer = KElbowVisualizer(model, k=(1,7))\n",
    "visualizer.fit(df_pca)      \n",
    "visualizer.show()"
   ]
  },
  {
   "cell_type": "code",
   "execution_count": 11,
   "metadata": {},
   "outputs": [],
   "source": [
    "kmeans=KMeans(3)\n",
    "kmeans.fit(df_pca)\n",
    "df['cluster']=kmeans.predict(df_pca)"
   ]
  },
  {
   "cell_type": "code",
   "execution_count": 12,
   "metadata": {},
   "outputs": [
    {
     "data": {
      "text/plain": [
       "<AxesSubplot:>"
      ]
     },
     "execution_count": 12,
     "metadata": {},
     "output_type": "execute_result"
    },
    {
     "data": {
      "image/png": "[encoded data removed]",
      "text/plain": [
       "<Figure size 576x396 with 1 Axes>"
      ]
     },
     "metadata": {},
     "output_type": "display_data"
    }
   ],
   "source": [
    "df.cluster.hist(bins=3)"
   ]
  },
  {
   "cell_type": "code",
   "execution_count": 13,
   "metadata": {},
   "outputs": [],
   "source": [
    "# Adding these clusters into ma dataframe\n",
    "df['Cluster1']=0\n",
    "df['Cluster2']=0\n",
    "df['Cluster3']=0\n",
    "df.loc[df.cluster==0, 'Cluster1'] = 1\n",
    "df.loc[df.cluster==1, 'Cluster2'] = 1\n",
    "df.loc[df.cluster==2, 'Cluster3'] = 1\n",
    "df.drop('cluster', axis=1, inplace=True)"
   ]
  },
  {
   "cell_type": "markdown",
   "metadata": {},
   "source": [
    "## Final dataset (for modeling)"
   ]
  },
  {
   "cell_type": "code",
   "execution_count": 14,
   "metadata": {},
   "outputs": [
    {
     "data": {
      "text/html": [
       "<div>\n",
       "<style scoped>\n",
       "    .dataframe tbody tr th:only-of-type {\n",
       "        vertical-align: middle;\n",
       "    }\n",
       "\n",
       "    .dataframe tbody tr th {\n",
       "        vertical-align: top;\n",
       "    }\n",
       "\n",
       "    .dataframe thead th {\n",
       "        text-align: right;\n",
       "    }\n",
       "</style>\n",
       "<table border=\"1\" class=\"dataframe\">\n",
       "  <thead>\n",
       "    <tr style=\"text-align: right;\">\n",
       "      <th></th>\n",
       "      <th>0</th>\n",
       "      <th>1</th>\n",
       "      <th>2</th>\n",
       "      <th>3</th>\n",
       "      <th>4</th>\n",
       "      <th>5</th>\n",
       "      <th>6</th>\n",
       "      <th>7</th>\n",
       "      <th>8</th>\n",
       "      <th>9</th>\n",
       "      <th>10</th>\n",
       "      <th>11</th>\n",
       "      <th>12</th>\n",
       "      <th>13</th>\n",
       "      <th>14</th>\n",
       "      <th>15</th>\n",
       "      <th>16</th>\n",
       "      <th>17</th>\n",
       "      <th>18</th>\n",
       "      <th>19</th>\n",
       "    </tr>\n",
       "  </thead>\n",
       "  <tbody>\n",
       "    <tr>\n",
       "      <th>time_in_hospital</th>\n",
       "      <td>1</td>\n",
       "      <td>3</td>\n",
       "      <td>2</td>\n",
       "      <td>2</td>\n",
       "      <td>1</td>\n",
       "      <td>3</td>\n",
       "      <td>4</td>\n",
       "      <td>5</td>\n",
       "      <td>13</td>\n",
       "      <td>12</td>\n",
       "      <td>9</td>\n",
       "      <td>7</td>\n",
       "      <td>7</td>\n",
       "      <td>10</td>\n",
       "      <td>1</td>\n",
       "      <td>12</td>\n",
       "      <td>4</td>\n",
       "      <td>3</td>\n",
       "      <td>5</td>\n",
       "      <td>6</td>\n",
       "    </tr>\n",
       "    <tr>\n",
       "      <th>num_lab_procedures</th>\n",
       "      <td>41</td>\n",
       "      <td>59</td>\n",
       "      <td>11</td>\n",
       "      <td>44</td>\n",
       "      <td>51</td>\n",
       "      <td>31</td>\n",
       "      <td>70</td>\n",
       "      <td>73</td>\n",
       "      <td>68</td>\n",
       "      <td>33</td>\n",
       "      <td>47</td>\n",
       "      <td>62</td>\n",
       "      <td>60</td>\n",
       "      <td>55</td>\n",
       "      <td>49</td>\n",
       "      <td>75</td>\n",
       "      <td>45</td>\n",
       "      <td>29</td>\n",
       "      <td>35</td>\n",
       "      <td>42</td>\n",
       "    </tr>\n",
       "    <tr>\n",
       "      <th>num_procedures</th>\n",
       "      <td>0</td>\n",
       "      <td>0</td>\n",
       "      <td>5</td>\n",
       "      <td>1</td>\n",
       "      <td>0</td>\n",
       "      <td>6</td>\n",
       "      <td>1</td>\n",
       "      <td>0</td>\n",
       "      <td>2</td>\n",
       "      <td>3</td>\n",
       "      <td>2</td>\n",
       "      <td>0</td>\n",
       "      <td>0</td>\n",
       "      <td>1</td>\n",
       "      <td>5</td>\n",
       "      <td>5</td>\n",
       "      <td>4</td>\n",
       "      <td>0</td>\n",
       "      <td>5</td>\n",
       "      <td>2</td>\n",
       "    </tr>\n",
       "    <tr>\n",
       "      <th>num_medications</th>\n",
       "      <td>1</td>\n",
       "      <td>18</td>\n",
       "      <td>13</td>\n",
       "      <td>16</td>\n",
       "      <td>8</td>\n",
       "      <td>16</td>\n",
       "      <td>21</td>\n",
       "      <td>12</td>\n",
       "      <td>28</td>\n",
       "      <td>18</td>\n",
       "      <td>17</td>\n",
       "      <td>11</td>\n",
       "      <td>15</td>\n",
       "      <td>31</td>\n",
       "      <td>2</td>\n",
       "      <td>13</td>\n",
       "      <td>17</td>\n",
       "      <td>11</td>\n",
       "      <td>23</td>\n",
       "      <td>23</td>\n",
       "    </tr>\n",
       "    <tr>\n",
       "      <th>number_outpatient</th>\n",
       "      <td>0</td>\n",
       "      <td>0</td>\n",
       "      <td>2</td>\n",
       "      <td>0</td>\n",
       "      <td>0</td>\n",
       "      <td>0</td>\n",
       "      <td>0</td>\n",
       "      <td>0</td>\n",
       "      <td>0</td>\n",
       "      <td>0</td>\n",
       "      <td>0</td>\n",
       "      <td>0</td>\n",
       "      <td>0</td>\n",
       "      <td>0</td>\n",
       "      <td>0</td>\n",
       "      <td>0</td>\n",
       "      <td>0</td>\n",
       "      <td>0</td>\n",
       "      <td>0</td>\n",
       "      <td>0</td>\n",
       "    </tr>\n",
       "    <tr>\n",
       "      <th>number_emergency</th>\n",
       "      <td>0</td>\n",
       "      <td>0</td>\n",
       "      <td>0</td>\n",
       "      <td>0</td>\n",
       "      <td>0</td>\n",
       "      <td>0</td>\n",
       "      <td>0</td>\n",
       "      <td>0</td>\n",
       "      <td>0</td>\n",
       "      <td>0</td>\n",
       "      <td>0</td>\n",
       "      <td>0</td>\n",
       "      <td>1</td>\n",
       "      <td>0</td>\n",
       "      <td>0</td>\n",
       "      <td>0</td>\n",
       "      <td>0</td>\n",
       "      <td>0</td>\n",
       "      <td>0</td>\n",
       "      <td>0</td>\n",
       "    </tr>\n",
       "    <tr>\n",
       "      <th>number_inpatient</th>\n",
       "      <td>0</td>\n",
       "      <td>0</td>\n",
       "      <td>1</td>\n",
       "      <td>0</td>\n",
       "      <td>0</td>\n",
       "      <td>0</td>\n",
       "      <td>0</td>\n",
       "      <td>0</td>\n",
       "      <td>0</td>\n",
       "      <td>0</td>\n",
       "      <td>0</td>\n",
       "      <td>0</td>\n",
       "      <td>0</td>\n",
       "      <td>0</td>\n",
       "      <td>0</td>\n",
       "      <td>0</td>\n",
       "      <td>0</td>\n",
       "      <td>0</td>\n",
       "      <td>0</td>\n",
       "      <td>0</td>\n",
       "    </tr>\n",
       "    <tr>\n",
       "      <th>number_diagnoses</th>\n",
       "      <td>1</td>\n",
       "      <td>9</td>\n",
       "      <td>6</td>\n",
       "      <td>7</td>\n",
       "      <td>5</td>\n",
       "      <td>9</td>\n",
       "      <td>7</td>\n",
       "      <td>8</td>\n",
       "      <td>8</td>\n",
       "      <td>8</td>\n",
       "      <td>9</td>\n",
       "      <td>7</td>\n",
       "      <td>8</td>\n",
       "      <td>8</td>\n",
       "      <td>8</td>\n",
       "      <td>9</td>\n",
       "      <td>8</td>\n",
       "      <td>3</td>\n",
       "      <td>9</td>\n",
       "      <td>8</td>\n",
       "    </tr>\n",
       "    <tr>\n",
       "      <th>metformin</th>\n",
       "      <td>0</td>\n",
       "      <td>0</td>\n",
       "      <td>0</td>\n",
       "      <td>0</td>\n",
       "      <td>0</td>\n",
       "      <td>0</td>\n",
       "      <td>1</td>\n",
       "      <td>0</td>\n",
       "      <td>0</td>\n",
       "      <td>0</td>\n",
       "      <td>0</td>\n",
       "      <td>0</td>\n",
       "      <td>1</td>\n",
       "      <td>0</td>\n",
       "      <td>0</td>\n",
       "      <td>0</td>\n",
       "      <td>0</td>\n",
       "      <td>0</td>\n",
       "      <td>0</td>\n",
       "      <td>0</td>\n",
       "    </tr>\n",
       "    <tr>\n",
       "      <th>insulin</th>\n",
       "      <td>0</td>\n",
       "      <td>1</td>\n",
       "      <td>0</td>\n",
       "      <td>1</td>\n",
       "      <td>1</td>\n",
       "      <td>1</td>\n",
       "      <td>1</td>\n",
       "      <td>0</td>\n",
       "      <td>1</td>\n",
       "      <td>1</td>\n",
       "      <td>1</td>\n",
       "      <td>1</td>\n",
       "      <td>1</td>\n",
       "      <td>1</td>\n",
       "      <td>1</td>\n",
       "      <td>1</td>\n",
       "      <td>1</td>\n",
       "      <td>0</td>\n",
       "      <td>1</td>\n",
       "      <td>1</td>\n",
       "    </tr>\n",
       "    <tr>\n",
       "      <th>change</th>\n",
       "      <td>0</td>\n",
       "      <td>1</td>\n",
       "      <td>0</td>\n",
       "      <td>1</td>\n",
       "      <td>1</td>\n",
       "      <td>0</td>\n",
       "      <td>1</td>\n",
       "      <td>0</td>\n",
       "      <td>1</td>\n",
       "      <td>1</td>\n",
       "      <td>0</td>\n",
       "      <td>1</td>\n",
       "      <td>1</td>\n",
       "      <td>0</td>\n",
       "      <td>0</td>\n",
       "      <td>1</td>\n",
       "      <td>1</td>\n",
       "      <td>0</td>\n",
       "      <td>0</td>\n",
       "      <td>1</td>\n",
       "    </tr>\n",
       "    <tr>\n",
       "      <th>diabetesMed</th>\n",
       "      <td>0</td>\n",
       "      <td>1</td>\n",
       "      <td>1</td>\n",
       "      <td>1</td>\n",
       "      <td>1</td>\n",
       "      <td>1</td>\n",
       "      <td>1</td>\n",
       "      <td>1</td>\n",
       "      <td>1</td>\n",
       "      <td>1</td>\n",
       "      <td>1</td>\n",
       "      <td>1</td>\n",
       "      <td>1</td>\n",
       "      <td>1</td>\n",
       "      <td>1</td>\n",
       "      <td>1</td>\n",
       "      <td>1</td>\n",
       "      <td>1</td>\n",
       "      <td>1</td>\n",
       "      <td>1</td>\n",
       "    </tr>\n",
       "    <tr>\n",
       "      <th>readmitted</th>\n",
       "      <td>0</td>\n",
       "      <td>1</td>\n",
       "      <td>0</td>\n",
       "      <td>0</td>\n",
       "      <td>0</td>\n",
       "      <td>1</td>\n",
       "      <td>0</td>\n",
       "      <td>1</td>\n",
       "      <td>0</td>\n",
       "      <td>0</td>\n",
       "      <td>1</td>\n",
       "      <td>1</td>\n",
       "      <td>1</td>\n",
       "      <td>0</td>\n",
       "      <td>1</td>\n",
       "      <td>0</td>\n",
       "      <td>1</td>\n",
       "      <td>0</td>\n",
       "      <td>1</td>\n",
       "      <td>0</td>\n",
       "    </tr>\n",
       "    <tr>\n",
       "      <th>Caucasian</th>\n",
       "      <td>1</td>\n",
       "      <td>1</td>\n",
       "      <td>0</td>\n",
       "      <td>1</td>\n",
       "      <td>1</td>\n",
       "      <td>1</td>\n",
       "      <td>1</td>\n",
       "      <td>1</td>\n",
       "      <td>1</td>\n",
       "      <td>1</td>\n",
       "      <td>0</td>\n",
       "      <td>0</td>\n",
       "      <td>1</td>\n",
       "      <td>1</td>\n",
       "      <td>0</td>\n",
       "      <td>0</td>\n",
       "      <td>0</td>\n",
       "      <td>1</td>\n",
       "      <td>0</td>\n",
       "      <td>0</td>\n",
       "    </tr>\n",
       "    <tr>\n",
       "      <th>Other_Race</th>\n",
       "      <td>0</td>\n",
       "      <td>0</td>\n",
       "      <td>0</td>\n",
       "      <td>0</td>\n",
       "      <td>0</td>\n",
       "      <td>0</td>\n",
       "      <td>0</td>\n",
       "      <td>0</td>\n",
       "      <td>0</td>\n",
       "      <td>0</td>\n",
       "      <td>0</td>\n",
       "      <td>0</td>\n",
       "      <td>0</td>\n",
       "      <td>0</td>\n",
       "      <td>0</td>\n",
       "      <td>0</td>\n",
       "      <td>0</td>\n",
       "      <td>0</td>\n",
       "      <td>0</td>\n",
       "      <td>1</td>\n",
       "    </tr>\n",
       "    <tr>\n",
       "      <th>admission_type_id_3</th>\n",
       "      <td>0</td>\n",
       "      <td>0</td>\n",
       "      <td>0</td>\n",
       "      <td>0</td>\n",
       "      <td>0</td>\n",
       "      <td>0</td>\n",
       "      <td>1</td>\n",
       "      <td>0</td>\n",
       "      <td>0</td>\n",
       "      <td>1</td>\n",
       "      <td>0</td>\n",
       "      <td>0</td>\n",
       "      <td>0</td>\n",
       "      <td>0</td>\n",
       "      <td>1</td>\n",
       "      <td>0</td>\n",
       "      <td>0</td>\n",
       "      <td>0</td>\n",
       "      <td>0</td>\n",
       "      <td>1</td>\n",
       "    </tr>\n",
       "    <tr>\n",
       "      <th>Cluster1</th>\n",
       "      <td>0</td>\n",
       "      <td>0</td>\n",
       "      <td>0</td>\n",
       "      <td>1</td>\n",
       "      <td>1</td>\n",
       "      <td>0</td>\n",
       "      <td>1</td>\n",
       "      <td>1</td>\n",
       "      <td>0</td>\n",
       "      <td>0</td>\n",
       "      <td>0</td>\n",
       "      <td>0</td>\n",
       "      <td>0</td>\n",
       "      <td>1</td>\n",
       "      <td>0</td>\n",
       "      <td>1</td>\n",
       "      <td>1</td>\n",
       "      <td>0</td>\n",
       "      <td>1</td>\n",
       "      <td>1</td>\n",
       "    </tr>\n",
       "    <tr>\n",
       "      <th>Cluster2</th>\n",
       "      <td>0</td>\n",
       "      <td>1</td>\n",
       "      <td>1</td>\n",
       "      <td>0</td>\n",
       "      <td>0</td>\n",
       "      <td>0</td>\n",
       "      <td>0</td>\n",
       "      <td>0</td>\n",
       "      <td>0</td>\n",
       "      <td>0</td>\n",
       "      <td>1</td>\n",
       "      <td>0</td>\n",
       "      <td>1</td>\n",
       "      <td>0</td>\n",
       "      <td>0</td>\n",
       "      <td>0</td>\n",
       "      <td>0</td>\n",
       "      <td>1</td>\n",
       "      <td>0</td>\n",
       "      <td>0</td>\n",
       "    </tr>\n",
       "    <tr>\n",
       "      <th>Cluster3</th>\n",
       "      <td>1</td>\n",
       "      <td>0</td>\n",
       "      <td>0</td>\n",
       "      <td>0</td>\n",
       "      <td>0</td>\n",
       "      <td>1</td>\n",
       "      <td>0</td>\n",
       "      <td>0</td>\n",
       "      <td>1</td>\n",
       "      <td>1</td>\n",
       "      <td>0</td>\n",
       "      <td>1</td>\n",
       "      <td>0</td>\n",
       "      <td>0</td>\n",
       "      <td>1</td>\n",
       "      <td>0</td>\n",
       "      <td>0</td>\n",
       "      <td>0</td>\n",
       "      <td>0</td>\n",
       "      <td>0</td>\n",
       "    </tr>\n",
       "  </tbody>\n",
       "</table>\n",
       "</div>"
      ],
      "text/plain": [
       "                     0   1   2   3   4   5   6   7   8   9   10  11  12  13  \\\n",
       "time_in_hospital      1   3   2   2   1   3   4   5  13  12   9   7   7  10   \n",
       "num_lab_procedures   41  59  11  44  51  31  70  73  68  33  47  62  60  55   \n",
       "num_procedures        0   0   5   1   0   6   1   0   2   3   2   0   0   1   \n",
       "num_medications       1  18  13  16   8  16  21  12  28  18  17  11  15  31   \n",
       "number_outpatient     0   0   2   0   0   0   0   0   0   0   0   0   0   0   \n",
       "number_emergency      0   0   0   0   0   0   0   0   0   0   0   0   1   0   \n",
       "number_inpatient      0   0   1   0   0   0   0   0   0   0   0   0   0   0   \n",
       "number_diagnoses      1   9   6   7   5   9   7   8   8   8   9   7   8   8   \n",
       "metformin             0   0   0   0   0   0   1   0   0   0   0   0   1   0   \n",
       "insulin               0   1   0   1   1   1   1   0   1   1   1   1   1   1   \n",
       "change                0   1   0   1   1   0   1   0   1   1   0   1   1   0   \n",
       "diabetesMed           0   1   1   1   1   1   1   1   1   1   1   1   1   1   \n",
       "readmitted            0   1   0   0   0   1   0   1   0   0   1   1   1   0   \n",
       "Caucasian             1   1   0   1   1   1   1   1   1   1   0   0   1   1   \n",
       "Other_Race            0   0   0   0   0   0   0   0   0   0   0   0   0   0   \n",
       "admission_type_id_3   0   0   0   0   0   0   1   0   0   1   0   0   0   0   \n",
       "Cluster1              0   0   0   1   1   0   1   1   0   0   0   0   0   1   \n",
       "Cluster2              0   1   1   0   0   0   0   0   0   0   1   0   1   0   \n",
       "Cluster3              1   0   0   0   0   1   0   0   1   1   0   1   0   0   \n",
       "\n",
       "                     14  15  16  17  18  19  \n",
       "time_in_hospital      1  12   4   3   5   6  \n",
       "num_lab_procedures   49  75  45  29  35  42  \n",
       "num_procedures        5   5   4   0   5   2  \n",
       "num_medications       2  13  17  11  23  23  \n",
       "number_outpatient     0   0   0   0   0   0  \n",
       "number_emergency      0   0   0   0   0   0  \n",
       "number_inpatient      0   0   0   0   0   0  \n",
       "number_diagnoses      8   9   8   3   9   8  \n",
       "metformin             0   0   0   0   0   0  \n",
       "insulin               1   1   1   0   1   1  \n",
       "change                0   1   1   0   0   1  \n",
       "diabetesMed           1   1   1   1   1   1  \n",
       "readmitted            1   0   1   0   1   0  \n",
       "Caucasian             0   0   0   1   0   0  \n",
       "Other_Race            0   0   0   0   0   1  \n",
       "admission_type_id_3   1   0   0   0   0   1  \n",
       "Cluster1              0   1   1   0   1   1  \n",
       "Cluster2              0   0   0   1   0   0  \n",
       "Cluster3              1   0   0   0   0   0  "
      ]
     },
     "execution_count": 14,
     "metadata": {},
     "output_type": "execute_result"
    }
   ],
   "source": [
    "col_drop = df_cl.columns.tolist()\n",
    "dfm = df.drop(col_drop, axis=1)\n",
    "dfm.head(20).T"
   ]
  },
  {
   "cell_type": "markdown",
   "metadata": {},
   "source": [
    "## CLASSIFICATION MODELLING"
   ]
  },
  {
   "cell_type": "markdown",
   "metadata": {},
   "source": [
    "Let's build our model, testing different classifiers"
   ]
  },
  {
   "cell_type": "code",
   "execution_count": 15,
   "metadata": {},
   "outputs": [],
   "source": [
    "X_train, X_test, y_train, y_test = train_test_split(dfm.drop('readmitted', axis=1)\n",
    "                                                    ,dfm.readmitted\n",
    "                                                    ,stratify=dfm.readmitted\n",
    "                                                    ,random_state=11)"
   ]
  },
  {
   "cell_type": "markdown",
   "metadata": {},
   "source": [
    "### Decision Tree Classifier"
   ]
  },
  {
   "cell_type": "code",
   "execution_count": 16,
   "metadata": {},
   "outputs": [
    {
     "name": "stdout",
     "output_type": "stream",
     "text": [
      "Mean precision is 0.5061372570244094\n"
     ]
    }
   ],
   "source": [
    "pipe=Pipeline(steps=[('model', DecisionTreeClassifier())])\n",
    "cv=RepeatedStratifiedKFold(n_splits=7, n_repeats=3, random_state=1)\n",
    "\n",
    "scores=cross_val_score(pipe, X_train.values, y_train.values.astype('float'), scoring='precision', cv=cv, n_jobs=-1)\n",
    "print('Mean precision is',np.mean(scores))"
   ]
  },
  {
   "cell_type": "markdown",
   "metadata": {},
   "source": [
    "### K Neighbors Classifier"
   ]
  },
  {
   "cell_type": "code",
   "execution_count": 20,
   "metadata": {},
   "outputs": [
    {
     "name": "stdout",
     "output_type": "stream",
     "text": [
      "[[8865 4845]\n",
      " [6285 5438]]\n",
      "Accuracy Score: 0.56\n",
      "Recall Score: 0.46\n",
      "Precision Score: 0.53\n",
      "F1 Score: 0.49\n"
     ]
    }
   ],
   "source": [
    "pipe=Pipeline(steps=[('model',KNeighborsClassifier())])\n",
    "pipe.fit(X_train, y_train)\n",
    "y_pred1=pipe.predict(X_test)\n",
    "print(confusion_matrix(y_test, y_pred1))\n",
    "print('Accuracy Score: '+str(accuracy_score(y_test,y_pred1).round(2)))\n",
    "print('Recall Score: '+str(recall_score(y_test,y_pred1).round(2)))\n",
    "print('Precision Score: '+str(precision_score(y_test,y_pred1).round(2)))\n",
    "print('F1 Score: '+str(f1_score(y_test,y_pred1).round(2)))"
   ]
  },
  {
   "cell_type": "markdown",
   "metadata": {},
   "source": [
    "### Random Forest Classifier"
   ]
  },
  {
   "cell_type": "code",
   "execution_count": 21,
   "metadata": {},
   "outputs": [
    {
     "name": "stdout",
     "output_type": "stream",
     "text": [
      "[[9204 4506]\n",
      " [5663 6060]]\n",
      "Accuracy Score: 0.6\n",
      "Recall Score: 0.52\n",
      "Precision Score: 0.57\n",
      "F1 Score: 0.54\n"
     ]
    }
   ],
   "source": [
    "pipe=Pipeline(steps=[('model', RandomForestClassifier())])\n",
    "pipe.fit(X_train, y_train)\n",
    "y_pred1=pipe.predict(X_test)\n",
    "print(confusion_matrix(y_test, y_pred1))\n",
    "print('Accuracy Score: '+str(accuracy_score(y_test,y_pred1).round(2)))\n",
    "print('Recall Score: '+str(recall_score(y_test,y_pred1).round(2)))\n",
    "print('Precision Score: '+str(precision_score(y_test,y_pred1).round(2)))\n",
    "print('F1 Score: '+str(f1_score(y_test,y_pred1).round(2)))"
   ]
  },
  {
   "cell_type": "markdown",
   "metadata": {},
   "source": [
    "### Random Forest Balanced"
   ]
  },
  {
   "cell_type": "code",
   "execution_count": 23,
   "metadata": {},
   "outputs": [
    {
     "name": "stdout",
     "output_type": "stream",
     "text": [
      "[[9212 4498]\n",
      " [5743 5980]]\n",
      "Accuracy Score: 0.6\n",
      "Recall Score: 0.51\n",
      "Precision Score: 0.57\n",
      "F1 Score: 0.54\n"
     ]
    }
   ],
   "source": [
    "pipe=Pipeline(steps=[('model', RandomForestClassifier(class_weight='balanced'))])\n",
    "pipe.fit(X_train, y_train)\n",
    "y_pred1=pipe.predict(X_test)\n",
    "print(confusion_matrix(y_test, y_pred1))\n",
    "print('Accuracy Score: '+str(accuracy_score(y_test,y_pred1).round(2)))\n",
    "print('Recall Score: '+str(recall_score(y_test,y_pred1).round(2)))\n",
    "print('Precision Score: '+str(precision_score(y_test,y_pred1).round(2)))\n",
    "print('F1 Score: '+str(f1_score(y_test,y_pred1).round(2)))"
   ]
  },
  {
   "cell_type": "markdown",
   "metadata": {},
   "source": [
    "### Logistic Regression"
   ]
  },
  {
   "cell_type": "code",
   "execution_count": 22,
   "metadata": {},
   "outputs": [
    {
     "name": "stdout",
     "output_type": "stream",
     "text": [
      "[[9529 4181]\n",
      " [5568 6155]]\n",
      "Accuracy Score: 0.62\n",
      "Recall Score: 0.53\n",
      "Precision Score: 0.6\n",
      "F1 Score: 0.56\n"
     ]
    }
   ],
   "source": [
    "pipe=Pipeline(steps=[('model', LogisticRegression(max_iter = 10000, class_weight='balanced'))])\n",
    "pipe.fit(X_train, y_train)\n",
    "y_pred1=pipe.predict(X_test)\n",
    "print(confusion_matrix(y_test, y_pred1))\n",
    "print('Accuracy Score: '+str(accuracy_score(y_test,y_pred1).round(2)))\n",
    "print('Recall Score: '+str(recall_score(y_test,y_pred1).round(2)))\n",
    "print('Precision Score: '+str(precision_score(y_test,y_pred1).round(2)))\n",
    "print('F1 Score: '+str(f1_score(y_test,y_pred1).round(2)))"
   ]
  },
  {
   "cell_type": "markdown",
   "metadata": {},
   "source": [
    "### XGBoost Classifier"
   ]
  },
  {
   "cell_type": "code",
   "execution_count": 25,
   "metadata": {},
   "outputs": [
    {
     "name": "stdout",
     "output_type": "stream",
     "text": [
      "[[9990 3720]\n",
      " [5994 5729]]\n",
      "Accuracy Score: 0.62\n",
      "Recall Score: 0.49\n",
      "Precision Score: 0.61\n",
      "F1 Score: 0.54\n"
     ]
    }
   ],
   "source": [
    "pipe=Pipeline(steps=[('model', XGBClassifier())])\n",
    "pipe.fit(X_train, y_train)\n",
    "y_pred1=pipe.predict(X_test)\n",
    "print(confusion_matrix(y_test, y_pred1))\n",
    "print('Accuracy Score: '+str(accuracy_score(y_test,y_pred1).round(2)))\n",
    "print('Recall Score: '+str(recall_score(y_test,y_pred1).round(2)))\n",
    "print('Precision Score: '+str(precision_score(y_test,y_pred1).round(2)))\n",
    "print('F1 Score: '+str(f1_score(y_test,y_pred1).round(2)))"
   ]
  },
  {
   "cell_type": "markdown",
   "metadata": {},
   "source": [
    "### AdaBoost Classifier"
   ]
  },
  {
   "cell_type": "code",
   "execution_count": 24,
   "metadata": {},
   "outputs": [
    {
     "name": "stdout",
     "output_type": "stream",
     "text": [
      "[[10554  3156]\n",
      " [ 6438  5285]]\n",
      "Accuracy Score: 0.62\n",
      "Recall Score: 0.45\n",
      "Precision Score: 0.63\n",
      "F1 Score: 0.52\n"
     ]
    }
   ],
   "source": [
    "pipe=Pipeline(steps=[('model', AdaBoostClassifier())])\n",
    "pipe.fit(X_train, y_train)\n",
    "y_pred1=pipe.predict(X_test)\n",
    "print(confusion_matrix(y_test, y_pred1))\n",
    "print('Accuracy Score: '+str(accuracy_score(y_test,y_pred1).round(2)))\n",
    "print('Recall Score: '+str(recall_score(y_test,y_pred1).round(2)))\n",
    "print('Precision Score: '+str(precision_score(y_test,y_pred1).round(2)))\n",
    "print('F1 Score: '+str(f1_score(y_test,y_pred1).round(2)))"
   ]
  },
  {
   "cell_type": "markdown",
   "metadata": {},
   "source": [
    "According to our 4 different tests, the model obtained with AdaBoost Classifier gives us the best precision and accuracy scores"
   ]
  },
  {
   "cell_type": "markdown",
   "metadata": {},
   "source": [
    "### Pycaret"
   ]
  },
  {
   "cell_type": "markdown",
   "metadata": {},
   "source": [
    "Let's check what model is the best according to Pycaret !"
   ]
  },
  {
   "cell_type": "code",
   "execution_count": 29,
   "metadata": {
    "scrolled": true
   },
   "outputs": [
    {
     "name": "stdout",
     "output_type": "stream",
     "text": [
      "Setup Succesfully Completed!\n"
     ]
    },
    {
     "data": {
      "text/html": [
       "<style  type=\"text/css\" >\n",
       "</style><table id=\"T_42ad3124_1446_11eb_9ab7_f8a2d602c6c4\" ><thead>    <tr>        <th class=\"blank level0\" ></th>        <th class=\"col_heading level0 col0\" >Description</th>        <th class=\"col_heading level0 col1\" >Value</th>    </tr></thead><tbody>\n",
       "                <tr>\n",
       "                        <th id=\"T_42ad3124_1446_11eb_9ab7_f8a2d602c6c4level0_row0\" class=\"row_heading level0 row0\" >0</th>\n",
       "                        <td id=\"T_42ad3124_1446_11eb_9ab7_f8a2d602c6c4row0_col0\" class=\"data row0 col0\" >session_id</td>\n",
       "                        <td id=\"T_42ad3124_1446_11eb_9ab7_f8a2d602c6c4row0_col1\" class=\"data row0 col1\" >7353</td>\n",
       "            </tr>\n",
       "            <tr>\n",
       "                        <th id=\"T_42ad3124_1446_11eb_9ab7_f8a2d602c6c4level0_row1\" class=\"row_heading level0 row1\" >1</th>\n",
       "                        <td id=\"T_42ad3124_1446_11eb_9ab7_f8a2d602c6c4row1_col0\" class=\"data row1 col0\" >Target Type</td>\n",
       "                        <td id=\"T_42ad3124_1446_11eb_9ab7_f8a2d602c6c4row1_col1\" class=\"data row1 col1\" >Binary</td>\n",
       "            </tr>\n",
       "            <tr>\n",
       "                        <th id=\"T_42ad3124_1446_11eb_9ab7_f8a2d602c6c4level0_row2\" class=\"row_heading level0 row2\" >2</th>\n",
       "                        <td id=\"T_42ad3124_1446_11eb_9ab7_f8a2d602c6c4row2_col0\" class=\"data row2 col0\" >Label Encoded</td>\n",
       "                        <td id=\"T_42ad3124_1446_11eb_9ab7_f8a2d602c6c4row2_col1\" class=\"data row2 col1\" >0: 0, 1: 1</td>\n",
       "            </tr>\n",
       "            <tr>\n",
       "                        <th id=\"T_42ad3124_1446_11eb_9ab7_f8a2d602c6c4level0_row3\" class=\"row_heading level0 row3\" >3</th>\n",
       "                        <td id=\"T_42ad3124_1446_11eb_9ab7_f8a2d602c6c4row3_col0\" class=\"data row3 col0\" >Original Data</td>\n",
       "                        <td id=\"T_42ad3124_1446_11eb_9ab7_f8a2d602c6c4row3_col1\" class=\"data row3 col1\" >(101732, 19)</td>\n",
       "            </tr>\n",
       "            <tr>\n",
       "                        <th id=\"T_42ad3124_1446_11eb_9ab7_f8a2d602c6c4level0_row4\" class=\"row_heading level0 row4\" >4</th>\n",
       "                        <td id=\"T_42ad3124_1446_11eb_9ab7_f8a2d602c6c4row4_col0\" class=\"data row4 col0\" >Missing Values </td>\n",
       "                        <td id=\"T_42ad3124_1446_11eb_9ab7_f8a2d602c6c4row4_col1\" class=\"data row4 col1\" >False</td>\n",
       "            </tr>\n",
       "            <tr>\n",
       "                        <th id=\"T_42ad3124_1446_11eb_9ab7_f8a2d602c6c4level0_row5\" class=\"row_heading level0 row5\" >5</th>\n",
       "                        <td id=\"T_42ad3124_1446_11eb_9ab7_f8a2d602c6c4row5_col0\" class=\"data row5 col0\" >Numeric Features </td>\n",
       "                        <td id=\"T_42ad3124_1446_11eb_9ab7_f8a2d602c6c4row5_col1\" class=\"data row5 col1\" >8</td>\n",
       "            </tr>\n",
       "            <tr>\n",
       "                        <th id=\"T_42ad3124_1446_11eb_9ab7_f8a2d602c6c4level0_row6\" class=\"row_heading level0 row6\" >6</th>\n",
       "                        <td id=\"T_42ad3124_1446_11eb_9ab7_f8a2d602c6c4row6_col0\" class=\"data row6 col0\" >Categorical Features </td>\n",
       "                        <td id=\"T_42ad3124_1446_11eb_9ab7_f8a2d602c6c4row6_col1\" class=\"data row6 col1\" >10</td>\n",
       "            </tr>\n",
       "            <tr>\n",
       "                        <th id=\"T_42ad3124_1446_11eb_9ab7_f8a2d602c6c4level0_row7\" class=\"row_heading level0 row7\" >7</th>\n",
       "                        <td id=\"T_42ad3124_1446_11eb_9ab7_f8a2d602c6c4row7_col0\" class=\"data row7 col0\" >Ordinal Features </td>\n",
       "                        <td id=\"T_42ad3124_1446_11eb_9ab7_f8a2d602c6c4row7_col1\" class=\"data row7 col1\" >False</td>\n",
       "            </tr>\n",
       "            <tr>\n",
       "                        <th id=\"T_42ad3124_1446_11eb_9ab7_f8a2d602c6c4level0_row8\" class=\"row_heading level0 row8\" >8</th>\n",
       "                        <td id=\"T_42ad3124_1446_11eb_9ab7_f8a2d602c6c4row8_col0\" class=\"data row8 col0\" >High Cardinality Features </td>\n",
       "                        <td id=\"T_42ad3124_1446_11eb_9ab7_f8a2d602c6c4row8_col1\" class=\"data row8 col1\" >False</td>\n",
       "            </tr>\n",
       "            <tr>\n",
       "                        <th id=\"T_42ad3124_1446_11eb_9ab7_f8a2d602c6c4level0_row9\" class=\"row_heading level0 row9\" >9</th>\n",
       "                        <td id=\"T_42ad3124_1446_11eb_9ab7_f8a2d602c6c4row9_col0\" class=\"data row9 col0\" >High Cardinality Method </td>\n",
       "                        <td id=\"T_42ad3124_1446_11eb_9ab7_f8a2d602c6c4row9_col1\" class=\"data row9 col1\" >None</td>\n",
       "            </tr>\n",
       "            <tr>\n",
       "                        <th id=\"T_42ad3124_1446_11eb_9ab7_f8a2d602c6c4level0_row10\" class=\"row_heading level0 row10\" >10</th>\n",
       "                        <td id=\"T_42ad3124_1446_11eb_9ab7_f8a2d602c6c4row10_col0\" class=\"data row10 col0\" >Sampled Data</td>\n",
       "                        <td id=\"T_42ad3124_1446_11eb_9ab7_f8a2d602c6c4row10_col1\" class=\"data row10 col1\" >(101732, 19)</td>\n",
       "            </tr>\n",
       "            <tr>\n",
       "                        <th id=\"T_42ad3124_1446_11eb_9ab7_f8a2d602c6c4level0_row11\" class=\"row_heading level0 row11\" >11</th>\n",
       "                        <td id=\"T_42ad3124_1446_11eb_9ab7_f8a2d602c6c4row11_col0\" class=\"data row11 col0\" >Transformed Train Set</td>\n",
       "                        <td id=\"T_42ad3124_1446_11eb_9ab7_f8a2d602c6c4row11_col1\" class=\"data row11 col1\" >(71212, 28)</td>\n",
       "            </tr>\n",
       "            <tr>\n",
       "                        <th id=\"T_42ad3124_1446_11eb_9ab7_f8a2d602c6c4level0_row12\" class=\"row_heading level0 row12\" >12</th>\n",
       "                        <td id=\"T_42ad3124_1446_11eb_9ab7_f8a2d602c6c4row12_col0\" class=\"data row12 col0\" >Transformed Test Set</td>\n",
       "                        <td id=\"T_42ad3124_1446_11eb_9ab7_f8a2d602c6c4row12_col1\" class=\"data row12 col1\" >(30520, 28)</td>\n",
       "            </tr>\n",
       "            <tr>\n",
       "                        <th id=\"T_42ad3124_1446_11eb_9ab7_f8a2d602c6c4level0_row13\" class=\"row_heading level0 row13\" >13</th>\n",
       "                        <td id=\"T_42ad3124_1446_11eb_9ab7_f8a2d602c6c4row13_col0\" class=\"data row13 col0\" >Numeric Imputer </td>\n",
       "                        <td id=\"T_42ad3124_1446_11eb_9ab7_f8a2d602c6c4row13_col1\" class=\"data row13 col1\" >mean</td>\n",
       "            </tr>\n",
       "            <tr>\n",
       "                        <th id=\"T_42ad3124_1446_11eb_9ab7_f8a2d602c6c4level0_row14\" class=\"row_heading level0 row14\" >14</th>\n",
       "                        <td id=\"T_42ad3124_1446_11eb_9ab7_f8a2d602c6c4row14_col0\" class=\"data row14 col0\" >Categorical Imputer </td>\n",
       "                        <td id=\"T_42ad3124_1446_11eb_9ab7_f8a2d602c6c4row14_col1\" class=\"data row14 col1\" >constant</td>\n",
       "            </tr>\n",
       "            <tr>\n",
       "                        <th id=\"T_42ad3124_1446_11eb_9ab7_f8a2d602c6c4level0_row15\" class=\"row_heading level0 row15\" >15</th>\n",
       "                        <td id=\"T_42ad3124_1446_11eb_9ab7_f8a2d602c6c4row15_col0\" class=\"data row15 col0\" >Normalize </td>\n",
       "                        <td id=\"T_42ad3124_1446_11eb_9ab7_f8a2d602c6c4row15_col1\" class=\"data row15 col1\" >False</td>\n",
       "            </tr>\n",
       "            <tr>\n",
       "                        <th id=\"T_42ad3124_1446_11eb_9ab7_f8a2d602c6c4level0_row16\" class=\"row_heading level0 row16\" >16</th>\n",
       "                        <td id=\"T_42ad3124_1446_11eb_9ab7_f8a2d602c6c4row16_col0\" class=\"data row16 col0\" >Normalize Method </td>\n",
       "                        <td id=\"T_42ad3124_1446_11eb_9ab7_f8a2d602c6c4row16_col1\" class=\"data row16 col1\" >None</td>\n",
       "            </tr>\n",
       "            <tr>\n",
       "                        <th id=\"T_42ad3124_1446_11eb_9ab7_f8a2d602c6c4level0_row17\" class=\"row_heading level0 row17\" >17</th>\n",
       "                        <td id=\"T_42ad3124_1446_11eb_9ab7_f8a2d602c6c4row17_col0\" class=\"data row17 col0\" >Transformation </td>\n",
       "                        <td id=\"T_42ad3124_1446_11eb_9ab7_f8a2d602c6c4row17_col1\" class=\"data row17 col1\" >False</td>\n",
       "            </tr>\n",
       "            <tr>\n",
       "                        <th id=\"T_42ad3124_1446_11eb_9ab7_f8a2d602c6c4level0_row18\" class=\"row_heading level0 row18\" >18</th>\n",
       "                        <td id=\"T_42ad3124_1446_11eb_9ab7_f8a2d602c6c4row18_col0\" class=\"data row18 col0\" >Transformation Method </td>\n",
       "                        <td id=\"T_42ad3124_1446_11eb_9ab7_f8a2d602c6c4row18_col1\" class=\"data row18 col1\" >None</td>\n",
       "            </tr>\n",
       "            <tr>\n",
       "                        <th id=\"T_42ad3124_1446_11eb_9ab7_f8a2d602c6c4level0_row19\" class=\"row_heading level0 row19\" >19</th>\n",
       "                        <td id=\"T_42ad3124_1446_11eb_9ab7_f8a2d602c6c4row19_col0\" class=\"data row19 col0\" >PCA </td>\n",
       "                        <td id=\"T_42ad3124_1446_11eb_9ab7_f8a2d602c6c4row19_col1\" class=\"data row19 col1\" >False</td>\n",
       "            </tr>\n",
       "            <tr>\n",
       "                        <th id=\"T_42ad3124_1446_11eb_9ab7_f8a2d602c6c4level0_row20\" class=\"row_heading level0 row20\" >20</th>\n",
       "                        <td id=\"T_42ad3124_1446_11eb_9ab7_f8a2d602c6c4row20_col0\" class=\"data row20 col0\" >PCA Method </td>\n",
       "                        <td id=\"T_42ad3124_1446_11eb_9ab7_f8a2d602c6c4row20_col1\" class=\"data row20 col1\" >None</td>\n",
       "            </tr>\n",
       "            <tr>\n",
       "                        <th id=\"T_42ad3124_1446_11eb_9ab7_f8a2d602c6c4level0_row21\" class=\"row_heading level0 row21\" >21</th>\n",
       "                        <td id=\"T_42ad3124_1446_11eb_9ab7_f8a2d602c6c4row21_col0\" class=\"data row21 col0\" >PCA Components </td>\n",
       "                        <td id=\"T_42ad3124_1446_11eb_9ab7_f8a2d602c6c4row21_col1\" class=\"data row21 col1\" >None</td>\n",
       "            </tr>\n",
       "            <tr>\n",
       "                        <th id=\"T_42ad3124_1446_11eb_9ab7_f8a2d602c6c4level0_row22\" class=\"row_heading level0 row22\" >22</th>\n",
       "                        <td id=\"T_42ad3124_1446_11eb_9ab7_f8a2d602c6c4row22_col0\" class=\"data row22 col0\" >Ignore Low Variance </td>\n",
       "                        <td id=\"T_42ad3124_1446_11eb_9ab7_f8a2d602c6c4row22_col1\" class=\"data row22 col1\" >False</td>\n",
       "            </tr>\n",
       "            <tr>\n",
       "                        <th id=\"T_42ad3124_1446_11eb_9ab7_f8a2d602c6c4level0_row23\" class=\"row_heading level0 row23\" >23</th>\n",
       "                        <td id=\"T_42ad3124_1446_11eb_9ab7_f8a2d602c6c4row23_col0\" class=\"data row23 col0\" >Combine Rare Levels </td>\n",
       "                        <td id=\"T_42ad3124_1446_11eb_9ab7_f8a2d602c6c4row23_col1\" class=\"data row23 col1\" >False</td>\n",
       "            </tr>\n",
       "            <tr>\n",
       "                        <th id=\"T_42ad3124_1446_11eb_9ab7_f8a2d602c6c4level0_row24\" class=\"row_heading level0 row24\" >24</th>\n",
       "                        <td id=\"T_42ad3124_1446_11eb_9ab7_f8a2d602c6c4row24_col0\" class=\"data row24 col0\" >Rare Level Threshold </td>\n",
       "                        <td id=\"T_42ad3124_1446_11eb_9ab7_f8a2d602c6c4row24_col1\" class=\"data row24 col1\" >None</td>\n",
       "            </tr>\n",
       "            <tr>\n",
       "                        <th id=\"T_42ad3124_1446_11eb_9ab7_f8a2d602c6c4level0_row25\" class=\"row_heading level0 row25\" >25</th>\n",
       "                        <td id=\"T_42ad3124_1446_11eb_9ab7_f8a2d602c6c4row25_col0\" class=\"data row25 col0\" >Numeric Binning </td>\n",
       "                        <td id=\"T_42ad3124_1446_11eb_9ab7_f8a2d602c6c4row25_col1\" class=\"data row25 col1\" >False</td>\n",
       "            </tr>\n",
       "            <tr>\n",
       "                        <th id=\"T_42ad3124_1446_11eb_9ab7_f8a2d602c6c4level0_row26\" class=\"row_heading level0 row26\" >26</th>\n",
       "                        <td id=\"T_42ad3124_1446_11eb_9ab7_f8a2d602c6c4row26_col0\" class=\"data row26 col0\" >Remove Outliers </td>\n",
       "                        <td id=\"T_42ad3124_1446_11eb_9ab7_f8a2d602c6c4row26_col1\" class=\"data row26 col1\" >False</td>\n",
       "            </tr>\n",
       "            <tr>\n",
       "                        <th id=\"T_42ad3124_1446_11eb_9ab7_f8a2d602c6c4level0_row27\" class=\"row_heading level0 row27\" >27</th>\n",
       "                        <td id=\"T_42ad3124_1446_11eb_9ab7_f8a2d602c6c4row27_col0\" class=\"data row27 col0\" >Outliers Threshold </td>\n",
       "                        <td id=\"T_42ad3124_1446_11eb_9ab7_f8a2d602c6c4row27_col1\" class=\"data row27 col1\" >None</td>\n",
       "            </tr>\n",
       "            <tr>\n",
       "                        <th id=\"T_42ad3124_1446_11eb_9ab7_f8a2d602c6c4level0_row28\" class=\"row_heading level0 row28\" >28</th>\n",
       "                        <td id=\"T_42ad3124_1446_11eb_9ab7_f8a2d602c6c4row28_col0\" class=\"data row28 col0\" >Remove Multicollinearity </td>\n",
       "                        <td id=\"T_42ad3124_1446_11eb_9ab7_f8a2d602c6c4row28_col1\" class=\"data row28 col1\" >False</td>\n",
       "            </tr>\n",
       "            <tr>\n",
       "                        <th id=\"T_42ad3124_1446_11eb_9ab7_f8a2d602c6c4level0_row29\" class=\"row_heading level0 row29\" >29</th>\n",
       "                        <td id=\"T_42ad3124_1446_11eb_9ab7_f8a2d602c6c4row29_col0\" class=\"data row29 col0\" >Multicollinearity Threshold </td>\n",
       "                        <td id=\"T_42ad3124_1446_11eb_9ab7_f8a2d602c6c4row29_col1\" class=\"data row29 col1\" >None</td>\n",
       "            </tr>\n",
       "            <tr>\n",
       "                        <th id=\"T_42ad3124_1446_11eb_9ab7_f8a2d602c6c4level0_row30\" class=\"row_heading level0 row30\" >30</th>\n",
       "                        <td id=\"T_42ad3124_1446_11eb_9ab7_f8a2d602c6c4row30_col0\" class=\"data row30 col0\" >Clustering </td>\n",
       "                        <td id=\"T_42ad3124_1446_11eb_9ab7_f8a2d602c6c4row30_col1\" class=\"data row30 col1\" >False</td>\n",
       "            </tr>\n",
       "            <tr>\n",
       "                        <th id=\"T_42ad3124_1446_11eb_9ab7_f8a2d602c6c4level0_row31\" class=\"row_heading level0 row31\" >31</th>\n",
       "                        <td id=\"T_42ad3124_1446_11eb_9ab7_f8a2d602c6c4row31_col0\" class=\"data row31 col0\" >Clustering Iteration </td>\n",
       "                        <td id=\"T_42ad3124_1446_11eb_9ab7_f8a2d602c6c4row31_col1\" class=\"data row31 col1\" >None</td>\n",
       "            </tr>\n",
       "            <tr>\n",
       "                        <th id=\"T_42ad3124_1446_11eb_9ab7_f8a2d602c6c4level0_row32\" class=\"row_heading level0 row32\" >32</th>\n",
       "                        <td id=\"T_42ad3124_1446_11eb_9ab7_f8a2d602c6c4row32_col0\" class=\"data row32 col0\" >Polynomial Features </td>\n",
       "                        <td id=\"T_42ad3124_1446_11eb_9ab7_f8a2d602c6c4row32_col1\" class=\"data row32 col1\" >False</td>\n",
       "            </tr>\n",
       "            <tr>\n",
       "                        <th id=\"T_42ad3124_1446_11eb_9ab7_f8a2d602c6c4level0_row33\" class=\"row_heading level0 row33\" >33</th>\n",
       "                        <td id=\"T_42ad3124_1446_11eb_9ab7_f8a2d602c6c4row33_col0\" class=\"data row33 col0\" >Polynomial Degree </td>\n",
       "                        <td id=\"T_42ad3124_1446_11eb_9ab7_f8a2d602c6c4row33_col1\" class=\"data row33 col1\" >None</td>\n",
       "            </tr>\n",
       "            <tr>\n",
       "                        <th id=\"T_42ad3124_1446_11eb_9ab7_f8a2d602c6c4level0_row34\" class=\"row_heading level0 row34\" >34</th>\n",
       "                        <td id=\"T_42ad3124_1446_11eb_9ab7_f8a2d602c6c4row34_col0\" class=\"data row34 col0\" >Trignometry Features </td>\n",
       "                        <td id=\"T_42ad3124_1446_11eb_9ab7_f8a2d602c6c4row34_col1\" class=\"data row34 col1\" >False</td>\n",
       "            </tr>\n",
       "            <tr>\n",
       "                        <th id=\"T_42ad3124_1446_11eb_9ab7_f8a2d602c6c4level0_row35\" class=\"row_heading level0 row35\" >35</th>\n",
       "                        <td id=\"T_42ad3124_1446_11eb_9ab7_f8a2d602c6c4row35_col0\" class=\"data row35 col0\" >Polynomial Threshold </td>\n",
       "                        <td id=\"T_42ad3124_1446_11eb_9ab7_f8a2d602c6c4row35_col1\" class=\"data row35 col1\" >None</td>\n",
       "            </tr>\n",
       "            <tr>\n",
       "                        <th id=\"T_42ad3124_1446_11eb_9ab7_f8a2d602c6c4level0_row36\" class=\"row_heading level0 row36\" >36</th>\n",
       "                        <td id=\"T_42ad3124_1446_11eb_9ab7_f8a2d602c6c4row36_col0\" class=\"data row36 col0\" >Group Features </td>\n",
       "                        <td id=\"T_42ad3124_1446_11eb_9ab7_f8a2d602c6c4row36_col1\" class=\"data row36 col1\" >False</td>\n",
       "            </tr>\n",
       "            <tr>\n",
       "                        <th id=\"T_42ad3124_1446_11eb_9ab7_f8a2d602c6c4level0_row37\" class=\"row_heading level0 row37\" >37</th>\n",
       "                        <td id=\"T_42ad3124_1446_11eb_9ab7_f8a2d602c6c4row37_col0\" class=\"data row37 col0\" >Feature Selection </td>\n",
       "                        <td id=\"T_42ad3124_1446_11eb_9ab7_f8a2d602c6c4row37_col1\" class=\"data row37 col1\" >False</td>\n",
       "            </tr>\n",
       "            <tr>\n",
       "                        <th id=\"T_42ad3124_1446_11eb_9ab7_f8a2d602c6c4level0_row38\" class=\"row_heading level0 row38\" >38</th>\n",
       "                        <td id=\"T_42ad3124_1446_11eb_9ab7_f8a2d602c6c4row38_col0\" class=\"data row38 col0\" >Features Selection Threshold </td>\n",
       "                        <td id=\"T_42ad3124_1446_11eb_9ab7_f8a2d602c6c4row38_col1\" class=\"data row38 col1\" >None</td>\n",
       "            </tr>\n",
       "            <tr>\n",
       "                        <th id=\"T_42ad3124_1446_11eb_9ab7_f8a2d602c6c4level0_row39\" class=\"row_heading level0 row39\" >39</th>\n",
       "                        <td id=\"T_42ad3124_1446_11eb_9ab7_f8a2d602c6c4row39_col0\" class=\"data row39 col0\" >Feature Interaction </td>\n",
       "                        <td id=\"T_42ad3124_1446_11eb_9ab7_f8a2d602c6c4row39_col1\" class=\"data row39 col1\" >False</td>\n",
       "            </tr>\n",
       "            <tr>\n",
       "                        <th id=\"T_42ad3124_1446_11eb_9ab7_f8a2d602c6c4level0_row40\" class=\"row_heading level0 row40\" >40</th>\n",
       "                        <td id=\"T_42ad3124_1446_11eb_9ab7_f8a2d602c6c4row40_col0\" class=\"data row40 col0\" >Feature Ratio </td>\n",
       "                        <td id=\"T_42ad3124_1446_11eb_9ab7_f8a2d602c6c4row40_col1\" class=\"data row40 col1\" >False</td>\n",
       "            </tr>\n",
       "            <tr>\n",
       "                        <th id=\"T_42ad3124_1446_11eb_9ab7_f8a2d602c6c4level0_row41\" class=\"row_heading level0 row41\" >41</th>\n",
       "                        <td id=\"T_42ad3124_1446_11eb_9ab7_f8a2d602c6c4row41_col0\" class=\"data row41 col0\" >Interaction Threshold </td>\n",
       "                        <td id=\"T_42ad3124_1446_11eb_9ab7_f8a2d602c6c4row41_col1\" class=\"data row41 col1\" >None</td>\n",
       "            </tr>\n",
       "            <tr>\n",
       "                        <th id=\"T_42ad3124_1446_11eb_9ab7_f8a2d602c6c4level0_row42\" class=\"row_heading level0 row42\" >42</th>\n",
       "                        <td id=\"T_42ad3124_1446_11eb_9ab7_f8a2d602c6c4row42_col0\" class=\"data row42 col0\" >Fix Imbalance</td>\n",
       "                        <td id=\"T_42ad3124_1446_11eb_9ab7_f8a2d602c6c4row42_col1\" class=\"data row42 col1\" >False</td>\n",
       "            </tr>\n",
       "            <tr>\n",
       "                        <th id=\"T_42ad3124_1446_11eb_9ab7_f8a2d602c6c4level0_row43\" class=\"row_heading level0 row43\" >43</th>\n",
       "                        <td id=\"T_42ad3124_1446_11eb_9ab7_f8a2d602c6c4row43_col0\" class=\"data row43 col0\" >Fix Imbalance Method</td>\n",
       "                        <td id=\"T_42ad3124_1446_11eb_9ab7_f8a2d602c6c4row43_col1\" class=\"data row43 col1\" >SMOTE</td>\n",
       "            </tr>\n",
       "    </tbody></table>"
      ],
      "text/plain": [
       "<pandas.io.formats.style.Styler at 0x25a82f04288>"
      ]
     },
     "metadata": {},
     "output_type": "display_data"
    }
   ],
   "source": [
    "data=setup(data=dfm, target='readmitted', numeric_features=['time_in_hospital', 'num_procedures', 'number_diagnoses'])"
   ]
  },
  {
   "cell_type": "code",
   "execution_count": 30,
   "metadata": {},
   "outputs": [
    {
     "data": {
      "text/html": [
       "<style  type=\"text/css\" >\n",
       "    #T_077a8f64_144c_11eb_afe3_f8a2d602c6c4 th {\n",
       "          text-align: left;\n",
       "    }#T_077a8f64_144c_11eb_afe3_f8a2d602c6c4row0_col0,#T_077a8f64_144c_11eb_afe3_f8a2d602c6c4row0_col3,#T_077a8f64_144c_11eb_afe3_f8a2d602c6c4row0_col4,#T_077a8f64_144c_11eb_afe3_f8a2d602c6c4row0_col5,#T_077a8f64_144c_11eb_afe3_f8a2d602c6c4row0_col6,#T_077a8f64_144c_11eb_afe3_f8a2d602c6c4row1_col0,#T_077a8f64_144c_11eb_afe3_f8a2d602c6c4row1_col1,#T_077a8f64_144c_11eb_afe3_f8a2d602c6c4row1_col2,#T_077a8f64_144c_11eb_afe3_f8a2d602c6c4row1_col3,#T_077a8f64_144c_11eb_afe3_f8a2d602c6c4row1_col4,#T_077a8f64_144c_11eb_afe3_f8a2d602c6c4row1_col7,#T_077a8f64_144c_11eb_afe3_f8a2d602c6c4row2_col0,#T_077a8f64_144c_11eb_afe3_f8a2d602c6c4row2_col1,#T_077a8f64_144c_11eb_afe3_f8a2d602c6c4row2_col2,#T_077a8f64_144c_11eb_afe3_f8a2d602c6c4row2_col3,#T_077a8f64_144c_11eb_afe3_f8a2d602c6c4row2_col4,#T_077a8f64_144c_11eb_afe3_f8a2d602c6c4row2_col5,#T_077a8f64_144c_11eb_afe3_f8a2d602c6c4row2_col6,#T_077a8f64_144c_11eb_afe3_f8a2d602c6c4row2_col7,#T_077a8f64_144c_11eb_afe3_f8a2d602c6c4row3_col0,#T_077a8f64_144c_11eb_afe3_f8a2d602c6c4row3_col1,#T_077a8f64_144c_11eb_afe3_f8a2d602c6c4row3_col2,#T_077a8f64_144c_11eb_afe3_f8a2d602c6c4row3_col3,#T_077a8f64_144c_11eb_afe3_f8a2d602c6c4row3_col4,#T_077a8f64_144c_11eb_afe3_f8a2d602c6c4row3_col5,#T_077a8f64_144c_11eb_afe3_f8a2d602c6c4row3_col6,#T_077a8f64_144c_11eb_afe3_f8a2d602c6c4row3_col7,#T_077a8f64_144c_11eb_afe3_f8a2d602c6c4row4_col0,#T_077a8f64_144c_11eb_afe3_f8a2d602c6c4row4_col1,#T_077a8f64_144c_11eb_afe3_f8a2d602c6c4row4_col2,#T_077a8f64_144c_11eb_afe3_f8a2d602c6c4row4_col3,#T_077a8f64_144c_11eb_afe3_f8a2d602c6c4row4_col4,#T_077a8f64_144c_11eb_afe3_f8a2d602c6c4row4_col5,#T_077a8f64_144c_11eb_afe3_f8a2d602c6c4row4_col6,#T_077a8f64_144c_11eb_afe3_f8a2d602c6c4row4_col7,#T_077a8f64_144c_11eb_afe3_f8a2d602c6c4row5_col0,#T_077a8f64_144c_11eb_afe3_f8a2d602c6c4row5_col1,#T_077a8f64_144c_11eb_afe3_f8a2d602c6c4row5_col2,#T_077a8f64_144c_11eb_afe3_f8a2d602c6c4row5_col3,#T_077a8f64_144c_11eb_afe3_f8a2d602c6c4row5_col4,#T_077a8f64_144c_11eb_afe3_f8a2d602c6c4row5_col5,#T_077a8f64_144c_11eb_afe3_f8a2d602c6c4row5_col6,#T_077a8f64_144c_11eb_afe3_f8a2d602c6c4row5_col7,#T_077a8f64_144c_11eb_afe3_f8a2d602c6c4row6_col0,#T_077a8f64_144c_11eb_afe3_f8a2d602c6c4row6_col1,#T_077a8f64_144c_11eb_afe3_f8a2d602c6c4row6_col2,#T_077a8f64_144c_11eb_afe3_f8a2d602c6c4row6_col3,#T_077a8f64_144c_11eb_afe3_f8a2d602c6c4row6_col4,#T_077a8f64_144c_11eb_afe3_f8a2d602c6c4row6_col5,#T_077a8f64_144c_11eb_afe3_f8a2d602c6c4row6_col6,#T_077a8f64_144c_11eb_afe3_f8a2d602c6c4row6_col7,#T_077a8f64_144c_11eb_afe3_f8a2d602c6c4row7_col0,#T_077a8f64_144c_11eb_afe3_f8a2d602c6c4row7_col1,#T_077a8f64_144c_11eb_afe3_f8a2d602c6c4row7_col2,#T_077a8f64_144c_11eb_afe3_f8a2d602c6c4row7_col3,#T_077a8f64_144c_11eb_afe3_f8a2d602c6c4row7_col4,#T_077a8f64_144c_11eb_afe3_f8a2d602c6c4row7_col5,#T_077a8f64_144c_11eb_afe3_f8a2d602c6c4row7_col6,#T_077a8f64_144c_11eb_afe3_f8a2d602c6c4row7_col7,#T_077a8f64_144c_11eb_afe3_f8a2d602c6c4row8_col0,#T_077a8f64_144c_11eb_afe3_f8a2d602c6c4row8_col1,#T_077a8f64_144c_11eb_afe3_f8a2d602c6c4row8_col2,#T_077a8f64_144c_11eb_afe3_f8a2d602c6c4row8_col3,#T_077a8f64_144c_11eb_afe3_f8a2d602c6c4row8_col4,#T_077a8f64_144c_11eb_afe3_f8a2d602c6c4row8_col5,#T_077a8f64_144c_11eb_afe3_f8a2d602c6c4row8_col6,#T_077a8f64_144c_11eb_afe3_f8a2d602c6c4row8_col7,#T_077a8f64_144c_11eb_afe3_f8a2d602c6c4row9_col0,#T_077a8f64_144c_11eb_afe3_f8a2d602c6c4row9_col1,#T_077a8f64_144c_11eb_afe3_f8a2d602c6c4row9_col2,#T_077a8f64_144c_11eb_afe3_f8a2d602c6c4row9_col3,#T_077a8f64_144c_11eb_afe3_f8a2d602c6c4row9_col5,#T_077a8f64_144c_11eb_afe3_f8a2d602c6c4row9_col6,#T_077a8f64_144c_11eb_afe3_f8a2d602c6c4row9_col7,#T_077a8f64_144c_11eb_afe3_f8a2d602c6c4row10_col0,#T_077a8f64_144c_11eb_afe3_f8a2d602c6c4row10_col1,#T_077a8f64_144c_11eb_afe3_f8a2d602c6c4row10_col2,#T_077a8f64_144c_11eb_afe3_f8a2d602c6c4row10_col3,#T_077a8f64_144c_11eb_afe3_f8a2d602c6c4row10_col4,#T_077a8f64_144c_11eb_afe3_f8a2d602c6c4row10_col5,#T_077a8f64_144c_11eb_afe3_f8a2d602c6c4row10_col6,#T_077a8f64_144c_11eb_afe3_f8a2d602c6c4row10_col7,#T_077a8f64_144c_11eb_afe3_f8a2d602c6c4row11_col0,#T_077a8f64_144c_11eb_afe3_f8a2d602c6c4row11_col1,#T_077a8f64_144c_11eb_afe3_f8a2d602c6c4row11_col2,#T_077a8f64_144c_11eb_afe3_f8a2d602c6c4row11_col3,#T_077a8f64_144c_11eb_afe3_f8a2d602c6c4row11_col4,#T_077a8f64_144c_11eb_afe3_f8a2d602c6c4row11_col5,#T_077a8f64_144c_11eb_afe3_f8a2d602c6c4row11_col6,#T_077a8f64_144c_11eb_afe3_f8a2d602c6c4row11_col7,#T_077a8f64_144c_11eb_afe3_f8a2d602c6c4row12_col0,#T_077a8f64_144c_11eb_afe3_f8a2d602c6c4row12_col1,#T_077a8f64_144c_11eb_afe3_f8a2d602c6c4row12_col2,#T_077a8f64_144c_11eb_afe3_f8a2d602c6c4row12_col3,#T_077a8f64_144c_11eb_afe3_f8a2d602c6c4row12_col4,#T_077a8f64_144c_11eb_afe3_f8a2d602c6c4row12_col5,#T_077a8f64_144c_11eb_afe3_f8a2d602c6c4row12_col6,#T_077a8f64_144c_11eb_afe3_f8a2d602c6c4row12_col7,#T_077a8f64_144c_11eb_afe3_f8a2d602c6c4row13_col0,#T_077a8f64_144c_11eb_afe3_f8a2d602c6c4row13_col1,#T_077a8f64_144c_11eb_afe3_f8a2d602c6c4row13_col2,#T_077a8f64_144c_11eb_afe3_f8a2d602c6c4row13_col3,#T_077a8f64_144c_11eb_afe3_f8a2d602c6c4row13_col4,#T_077a8f64_144c_11eb_afe3_f8a2d602c6c4row13_col5,#T_077a8f64_144c_11eb_afe3_f8a2d602c6c4row13_col6,#T_077a8f64_144c_11eb_afe3_f8a2d602c6c4row13_col7,#T_077a8f64_144c_11eb_afe3_f8a2d602c6c4row14_col0,#T_077a8f64_144c_11eb_afe3_f8a2d602c6c4row14_col1,#T_077a8f64_144c_11eb_afe3_f8a2d602c6c4row14_col2,#T_077a8f64_144c_11eb_afe3_f8a2d602c6c4row14_col4,#T_077a8f64_144c_11eb_afe3_f8a2d602c6c4row14_col5,#T_077a8f64_144c_11eb_afe3_f8a2d602c6c4row14_col6,#T_077a8f64_144c_11eb_afe3_f8a2d602c6c4row14_col7{\n",
       "            text-align:  left;\n",
       "        }#T_077a8f64_144c_11eb_afe3_f8a2d602c6c4row0_col1,#T_077a8f64_144c_11eb_afe3_f8a2d602c6c4row0_col2,#T_077a8f64_144c_11eb_afe3_f8a2d602c6c4row0_col7,#T_077a8f64_144c_11eb_afe3_f8a2d602c6c4row1_col5,#T_077a8f64_144c_11eb_afe3_f8a2d602c6c4row1_col6,#T_077a8f64_144c_11eb_afe3_f8a2d602c6c4row9_col4,#T_077a8f64_144c_11eb_afe3_f8a2d602c6c4row14_col3{\n",
       "            background-color:  yellow;\n",
       "            text-align:  left;\n",
       "        }#T_077a8f64_144c_11eb_afe3_f8a2d602c6c4row0_col8,#T_077a8f64_144c_11eb_afe3_f8a2d602c6c4row1_col8,#T_077a8f64_144c_11eb_afe3_f8a2d602c6c4row2_col8,#T_077a8f64_144c_11eb_afe3_f8a2d602c6c4row3_col8,#T_077a8f64_144c_11eb_afe3_f8a2d602c6c4row4_col8,#T_077a8f64_144c_11eb_afe3_f8a2d602c6c4row5_col8,#T_077a8f64_144c_11eb_afe3_f8a2d602c6c4row6_col8,#T_077a8f64_144c_11eb_afe3_f8a2d602c6c4row7_col8,#T_077a8f64_144c_11eb_afe3_f8a2d602c6c4row8_col8,#T_077a8f64_144c_11eb_afe3_f8a2d602c6c4row9_col8,#T_077a8f64_144c_11eb_afe3_f8a2d602c6c4row10_col8,#T_077a8f64_144c_11eb_afe3_f8a2d602c6c4row11_col8,#T_077a8f64_144c_11eb_afe3_f8a2d602c6c4row12_col8,#T_077a8f64_144c_11eb_afe3_f8a2d602c6c4row13_col8,#T_077a8f64_144c_11eb_afe3_f8a2d602c6c4row14_col8{\n",
       "            background-color:  lightgrey;\n",
       "            text-align:  left;\n",
       "        }</style><table id=\"T_077a8f64_144c_11eb_afe3_f8a2d602c6c4\" ><thead>    <tr>        <th class=\"blank level0\" ></th>        <th class=\"col_heading level0 col0\" >Model</th>        <th class=\"col_heading level0 col1\" >Accuracy</th>        <th class=\"col_heading level0 col2\" >AUC</th>        <th class=\"col_heading level0 col3\" >Recall</th>        <th class=\"col_heading level0 col4\" >Prec.</th>        <th class=\"col_heading level0 col5\" >F1</th>        <th class=\"col_heading level0 col6\" >Kappa</th>        <th class=\"col_heading level0 col7\" >MCC</th>        <th class=\"col_heading level0 col8\" >TT (Sec)</th>    </tr></thead><tbody>\n",
       "                <tr>\n",
       "                        <th id=\"T_077a8f64_144c_11eb_afe3_f8a2d602c6c4level0_row0\" class=\"row_heading level0 row0\" >0</th>\n",
       "                        <td id=\"T_077a8f64_144c_11eb_afe3_f8a2d602c6c4row0_col0\" class=\"data row0 col0\" >Gradient Boosting Classifier</td>\n",
       "                        <td id=\"T_077a8f64_144c_11eb_afe3_f8a2d602c6c4row0_col1\" class=\"data row0 col1\" >0.6247</td>\n",
       "                        <td id=\"T_077a8f64_144c_11eb_afe3_f8a2d602c6c4row0_col2\" class=\"data row0 col2\" >0.6657</td>\n",
       "                        <td id=\"T_077a8f64_144c_11eb_afe3_f8a2d602c6c4row0_col3\" class=\"data row0 col3\" >0.4723</td>\n",
       "                        <td id=\"T_077a8f64_144c_11eb_afe3_f8a2d602c6c4row0_col4\" class=\"data row0 col4\" >0.6224</td>\n",
       "                        <td id=\"T_077a8f64_144c_11eb_afe3_f8a2d602c6c4row0_col5\" class=\"data row0 col5\" >0.5370</td>\n",
       "                        <td id=\"T_077a8f64_144c_11eb_afe3_f8a2d602c6c4row0_col6\" class=\"data row0 col6\" >0.2313</td>\n",
       "                        <td id=\"T_077a8f64_144c_11eb_afe3_f8a2d602c6c4row0_col7\" class=\"data row0 col7\" >0.2376</td>\n",
       "                        <td id=\"T_077a8f64_144c_11eb_afe3_f8a2d602c6c4row0_col8\" class=\"data row0 col8\" >24.7179</td>\n",
       "            </tr>\n",
       "            <tr>\n",
       "                        <th id=\"T_077a8f64_144c_11eb_afe3_f8a2d602c6c4level0_row1\" class=\"row_heading level0 row1\" >1</th>\n",
       "                        <td id=\"T_077a8f64_144c_11eb_afe3_f8a2d602c6c4row1_col0\" class=\"data row1 col0\" >Light Gradient Boosting Machine</td>\n",
       "                        <td id=\"T_077a8f64_144c_11eb_afe3_f8a2d602c6c4row1_col1\" class=\"data row1 col1\" >0.6245</td>\n",
       "                        <td id=\"T_077a8f64_144c_11eb_afe3_f8a2d602c6c4row1_col2\" class=\"data row1 col2\" >0.6656</td>\n",
       "                        <td id=\"T_077a8f64_144c_11eb_afe3_f8a2d602c6c4row1_col3\" class=\"data row1 col3\" >0.4917</td>\n",
       "                        <td id=\"T_077a8f64_144c_11eb_afe3_f8a2d602c6c4row1_col4\" class=\"data row1 col4\" >0.6161</td>\n",
       "                        <td id=\"T_077a8f64_144c_11eb_afe3_f8a2d602c6c4row1_col5\" class=\"data row1 col5\" >0.5469</td>\n",
       "                        <td id=\"T_077a8f64_144c_11eb_afe3_f8a2d602c6c4row1_col6\" class=\"data row1 col6\" >0.2332</td>\n",
       "                        <td id=\"T_077a8f64_144c_11eb_afe3_f8a2d602c6c4row1_col7\" class=\"data row1 col7\" >0.2375</td>\n",
       "                        <td id=\"T_077a8f64_144c_11eb_afe3_f8a2d602c6c4row1_col8\" class=\"data row1 col8\" >1.0386</td>\n",
       "            </tr>\n",
       "            <tr>\n",
       "                        <th id=\"T_077a8f64_144c_11eb_afe3_f8a2d602c6c4level0_row2\" class=\"row_heading level0 row2\" >2</th>\n",
       "                        <td id=\"T_077a8f64_144c_11eb_afe3_f8a2d602c6c4row2_col0\" class=\"data row2 col0\" >CatBoost Classifier</td>\n",
       "                        <td id=\"T_077a8f64_144c_11eb_afe3_f8a2d602c6c4row2_col1\" class=\"data row2 col1\" >0.6244</td>\n",
       "                        <td id=\"T_077a8f64_144c_11eb_afe3_f8a2d602c6c4row2_col2\" class=\"data row2 col2\" >0.6652</td>\n",
       "                        <td id=\"T_077a8f64_144c_11eb_afe3_f8a2d602c6c4row2_col3\" class=\"data row2 col3\" >0.4889</td>\n",
       "                        <td id=\"T_077a8f64_144c_11eb_afe3_f8a2d602c6c4row2_col4\" class=\"data row2 col4\" >0.6168</td>\n",
       "                        <td id=\"T_077a8f64_144c_11eb_afe3_f8a2d602c6c4row2_col5\" class=\"data row2 col5\" >0.5455</td>\n",
       "                        <td id=\"T_077a8f64_144c_11eb_afe3_f8a2d602c6c4row2_col6\" class=\"data row2 col6\" >0.2327</td>\n",
       "                        <td id=\"T_077a8f64_144c_11eb_afe3_f8a2d602c6c4row2_col7\" class=\"data row2 col7\" >0.2373</td>\n",
       "                        <td id=\"T_077a8f64_144c_11eb_afe3_f8a2d602c6c4row2_col8\" class=\"data row2 col8\" >91.8891</td>\n",
       "            </tr>\n",
       "            <tr>\n",
       "                        <th id=\"T_077a8f64_144c_11eb_afe3_f8a2d602c6c4level0_row3\" class=\"row_heading level0 row3\" >3</th>\n",
       "                        <td id=\"T_077a8f64_144c_11eb_afe3_f8a2d602c6c4row3_col0\" class=\"data row3 col0\" >Ada Boost Classifier</td>\n",
       "                        <td id=\"T_077a8f64_144c_11eb_afe3_f8a2d602c6c4row3_col1\" class=\"data row3 col1\" >0.6240</td>\n",
       "                        <td id=\"T_077a8f64_144c_11eb_afe3_f8a2d602c6c4row3_col2\" class=\"data row3 col2\" >0.6614</td>\n",
       "                        <td id=\"T_077a8f64_144c_11eb_afe3_f8a2d602c6c4row3_col3\" class=\"data row3 col3\" >0.4497</td>\n",
       "                        <td id=\"T_077a8f64_144c_11eb_afe3_f8a2d602c6c4row3_col4\" class=\"data row3 col4\" >0.6288</td>\n",
       "                        <td id=\"T_077a8f64_144c_11eb_afe3_f8a2d602c6c4row3_col5\" class=\"data row3 col5\" >0.5243</td>\n",
       "                        <td id=\"T_077a8f64_144c_11eb_afe3_f8a2d602c6c4row3_col6\" class=\"data row3 col6\" >0.2274</td>\n",
       "                        <td id=\"T_077a8f64_144c_11eb_afe3_f8a2d602c6c4row3_col7\" class=\"data row3 col7\" >0.2362</td>\n",
       "                        <td id=\"T_077a8f64_144c_11eb_afe3_f8a2d602c6c4row3_col8\" class=\"data row3 col8\" >7.5893</td>\n",
       "            </tr>\n",
       "            <tr>\n",
       "                        <th id=\"T_077a8f64_144c_11eb_afe3_f8a2d602c6c4level0_row4\" class=\"row_heading level0 row4\" >4</th>\n",
       "                        <td id=\"T_077a8f64_144c_11eb_afe3_f8a2d602c6c4row4_col0\" class=\"data row4 col0\" >Extreme Gradient Boosting</td>\n",
       "                        <td id=\"T_077a8f64_144c_11eb_afe3_f8a2d602c6c4row4_col1\" class=\"data row4 col1\" >0.6204</td>\n",
       "                        <td id=\"T_077a8f64_144c_11eb_afe3_f8a2d602c6c4row4_col2\" class=\"data row4 col2\" >0.6579</td>\n",
       "                        <td id=\"T_077a8f64_144c_11eb_afe3_f8a2d602c6c4row4_col3\" class=\"data row4 col3\" >0.4945</td>\n",
       "                        <td id=\"T_077a8f64_144c_11eb_afe3_f8a2d602c6c4row4_col4\" class=\"data row4 col4\" >0.6087</td>\n",
       "                        <td id=\"T_077a8f64_144c_11eb_afe3_f8a2d602c6c4row4_col5\" class=\"data row4 col5\" >0.5457</td>\n",
       "                        <td id=\"T_077a8f64_144c_11eb_afe3_f8a2d602c6c4row4_col6\" class=\"data row4 col6\" >0.2257</td>\n",
       "                        <td id=\"T_077a8f64_144c_11eb_afe3_f8a2d602c6c4row4_col7\" class=\"data row4 col7\" >0.2293</td>\n",
       "                        <td id=\"T_077a8f64_144c_11eb_afe3_f8a2d602c6c4row4_col8\" class=\"data row4 col8\" >7.3879</td>\n",
       "            </tr>\n",
       "            <tr>\n",
       "                        <th id=\"T_077a8f64_144c_11eb_afe3_f8a2d602c6c4level0_row5\" class=\"row_heading level0 row5\" >5</th>\n",
       "                        <td id=\"T_077a8f64_144c_11eb_afe3_f8a2d602c6c4row5_col0\" class=\"data row5 col0\" >Logistic Regression</td>\n",
       "                        <td id=\"T_077a8f64_144c_11eb_afe3_f8a2d602c6c4row5_col1\" class=\"data row5 col1\" >0.6188</td>\n",
       "                        <td id=\"T_077a8f64_144c_11eb_afe3_f8a2d602c6c4row5_col2\" class=\"data row5 col2\" >0.6568</td>\n",
       "                        <td id=\"T_077a8f64_144c_11eb_afe3_f8a2d602c6c4row5_col3\" class=\"data row5 col3\" >0.3953</td>\n",
       "                        <td id=\"T_077a8f64_144c_11eb_afe3_f8a2d602c6c4row5_col4\" class=\"data row5 col4\" >0.6400</td>\n",
       "                        <td id=\"T_077a8f64_144c_11eb_afe3_f8a2d602c6c4row5_col5\" class=\"data row5 col5\" >0.4887</td>\n",
       "                        <td id=\"T_077a8f64_144c_11eb_afe3_f8a2d602c6c4row5_col6\" class=\"data row5 col6\" >0.2110</td>\n",
       "                        <td id=\"T_077a8f64_144c_11eb_afe3_f8a2d602c6c4row5_col7\" class=\"data row5 col7\" >0.2266</td>\n",
       "                        <td id=\"T_077a8f64_144c_11eb_afe3_f8a2d602c6c4row5_col8\" class=\"data row5 col8\" >2.4666</td>\n",
       "            </tr>\n",
       "            <tr>\n",
       "                        <th id=\"T_077a8f64_144c_11eb_afe3_f8a2d602c6c4level0_row6\" class=\"row_heading level0 row6\" >6</th>\n",
       "                        <td id=\"T_077a8f64_144c_11eb_afe3_f8a2d602c6c4row6_col0\" class=\"data row6 col0\" >Linear Discriminant Analysis</td>\n",
       "                        <td id=\"T_077a8f64_144c_11eb_afe3_f8a2d602c6c4row6_col1\" class=\"data row6 col1\" >0.6156</td>\n",
       "                        <td id=\"T_077a8f64_144c_11eb_afe3_f8a2d602c6c4row6_col2\" class=\"data row6 col2\" >0.6537</td>\n",
       "                        <td id=\"T_077a8f64_144c_11eb_afe3_f8a2d602c6c4row6_col3\" class=\"data row6 col3\" >0.3822</td>\n",
       "                        <td id=\"T_077a8f64_144c_11eb_afe3_f8a2d602c6c4row6_col4\" class=\"data row6 col4\" >0.6387</td>\n",
       "                        <td id=\"T_077a8f64_144c_11eb_afe3_f8a2d602c6c4row6_col5\" class=\"data row6 col5\" >0.4782</td>\n",
       "                        <td id=\"T_077a8f64_144c_11eb_afe3_f8a2d602c6c4row6_col6\" class=\"data row6 col6\" >0.2032</td>\n",
       "                        <td id=\"T_077a8f64_144c_11eb_afe3_f8a2d602c6c4row6_col7\" class=\"data row6 col7\" >0.2201</td>\n",
       "                        <td id=\"T_077a8f64_144c_11eb_afe3_f8a2d602c6c4row6_col8\" class=\"data row6 col8\" >0.6828</td>\n",
       "            </tr>\n",
       "            <tr>\n",
       "                        <th id=\"T_077a8f64_144c_11eb_afe3_f8a2d602c6c4level0_row7\" class=\"row_heading level0 row7\" >7</th>\n",
       "                        <td id=\"T_077a8f64_144c_11eb_afe3_f8a2d602c6c4row7_col0\" class=\"data row7 col0\" >Ridge Classifier</td>\n",
       "                        <td id=\"T_077a8f64_144c_11eb_afe3_f8a2d602c6c4row7_col1\" class=\"data row7 col1\" >0.6155</td>\n",
       "                        <td id=\"T_077a8f64_144c_11eb_afe3_f8a2d602c6c4row7_col2\" class=\"data row7 col2\" >0.0000</td>\n",
       "                        <td id=\"T_077a8f64_144c_11eb_afe3_f8a2d602c6c4row7_col3\" class=\"data row7 col3\" >0.3815</td>\n",
       "                        <td id=\"T_077a8f64_144c_11eb_afe3_f8a2d602c6c4row7_col4\" class=\"data row7 col4\" >0.6388</td>\n",
       "                        <td id=\"T_077a8f64_144c_11eb_afe3_f8a2d602c6c4row7_col5\" class=\"data row7 col5\" >0.4777</td>\n",
       "                        <td id=\"T_077a8f64_144c_11eb_afe3_f8a2d602c6c4row7_col6\" class=\"data row7 col6\" >0.2030</td>\n",
       "                        <td id=\"T_077a8f64_144c_11eb_afe3_f8a2d602c6c4row7_col7\" class=\"data row7 col7\" >0.2199</td>\n",
       "                        <td id=\"T_077a8f64_144c_11eb_afe3_f8a2d602c6c4row7_col8\" class=\"data row7 col8\" >0.2981</td>\n",
       "            </tr>\n",
       "            <tr>\n",
       "                        <th id=\"T_077a8f64_144c_11eb_afe3_f8a2d602c6c4level0_row8\" class=\"row_heading level0 row8\" >8</th>\n",
       "                        <td id=\"T_077a8f64_144c_11eb_afe3_f8a2d602c6c4row8_col0\" class=\"data row8 col0\" >Naive Bayes</td>\n",
       "                        <td id=\"T_077a8f64_144c_11eb_afe3_f8a2d602c6c4row8_col1\" class=\"data row8 col1\" >0.6038</td>\n",
       "                        <td id=\"T_077a8f64_144c_11eb_afe3_f8a2d602c6c4row8_col2\" class=\"data row8 col2\" >0.6336</td>\n",
       "                        <td id=\"T_077a8f64_144c_11eb_afe3_f8a2d602c6c4row8_col3\" class=\"data row8 col3\" >0.3236</td>\n",
       "                        <td id=\"T_077a8f64_144c_11eb_afe3_f8a2d602c6c4row8_col4\" class=\"data row8 col4\" >0.6388</td>\n",
       "                        <td id=\"T_077a8f64_144c_11eb_afe3_f8a2d602c6c4row8_col5\" class=\"data row8 col5\" >0.4295</td>\n",
       "                        <td id=\"T_077a8f64_144c_11eb_afe3_f8a2d602c6c4row8_col6\" class=\"data row8 col6\" >0.1732</td>\n",
       "                        <td id=\"T_077a8f64_144c_11eb_afe3_f8a2d602c6c4row8_col7\" class=\"data row8 col7\" >0.1968</td>\n",
       "                        <td id=\"T_077a8f64_144c_11eb_afe3_f8a2d602c6c4row8_col8\" class=\"data row8 col8\" >0.2157</td>\n",
       "            </tr>\n",
       "            <tr>\n",
       "                        <th id=\"T_077a8f64_144c_11eb_afe3_f8a2d602c6c4level0_row9\" class=\"row_heading level0 row9\" >9</th>\n",
       "                        <td id=\"T_077a8f64_144c_11eb_afe3_f8a2d602c6c4row9_col0\" class=\"data row9 col0\" >Quadratic Discriminant Analysis</td>\n",
       "                        <td id=\"T_077a8f64_144c_11eb_afe3_f8a2d602c6c4row9_col1\" class=\"data row9 col1\" >0.6006</td>\n",
       "                        <td id=\"T_077a8f64_144c_11eb_afe3_f8a2d602c6c4row9_col2\" class=\"data row9 col2\" >0.6471</td>\n",
       "                        <td id=\"T_077a8f64_144c_11eb_afe3_f8a2d602c6c4row9_col3\" class=\"data row9 col3\" >0.2691</td>\n",
       "                        <td id=\"T_077a8f64_144c_11eb_afe3_f8a2d602c6c4row9_col4\" class=\"data row9 col4\" >0.6651</td>\n",
       "                        <td id=\"T_077a8f64_144c_11eb_afe3_f8a2d602c6c4row9_col5\" class=\"data row9 col5\" >0.3831</td>\n",
       "                        <td id=\"T_077a8f64_144c_11eb_afe3_f8a2d602c6c4row9_col6\" class=\"data row9 col6\" >0.1600</td>\n",
       "                        <td id=\"T_077a8f64_144c_11eb_afe3_f8a2d602c6c4row9_col7\" class=\"data row9 col7\" >0.1960</td>\n",
       "                        <td id=\"T_077a8f64_144c_11eb_afe3_f8a2d602c6c4row9_col8\" class=\"data row9 col8\" >0.7551</td>\n",
       "            </tr>\n",
       "            <tr>\n",
       "                        <th id=\"T_077a8f64_144c_11eb_afe3_f8a2d602c6c4level0_row10\" class=\"row_heading level0 row10\" >10</th>\n",
       "                        <td id=\"T_077a8f64_144c_11eb_afe3_f8a2d602c6c4row10_col0\" class=\"data row10 col0\" >Extra Trees Classifier</td>\n",
       "                        <td id=\"T_077a8f64_144c_11eb_afe3_f8a2d602c6c4row10_col1\" class=\"data row10 col1\" >0.5835</td>\n",
       "                        <td id=\"T_077a8f64_144c_11eb_afe3_f8a2d602c6c4row10_col2\" class=\"data row10 col2\" >0.6082</td>\n",
       "                        <td id=\"T_077a8f64_144c_11eb_afe3_f8a2d602c6c4row10_col3\" class=\"data row10 col3\" >0.5085</td>\n",
       "                        <td id=\"T_077a8f64_144c_11eb_afe3_f8a2d602c6c4row10_col4\" class=\"data row10 col4\" >0.5524</td>\n",
       "                        <td id=\"T_077a8f64_144c_11eb_afe3_f8a2d602c6c4row10_col5\" class=\"data row10 col5\" >0.5295</td>\n",
       "                        <td id=\"T_077a8f64_144c_11eb_afe3_f8a2d602c6c4row10_col6\" class=\"data row10 col6\" >0.1571</td>\n",
       "                        <td id=\"T_077a8f64_144c_11eb_afe3_f8a2d602c6c4row10_col7\" class=\"data row10 col7\" >0.1576</td>\n",
       "                        <td id=\"T_077a8f64_144c_11eb_afe3_f8a2d602c6c4row10_col8\" class=\"data row10 col8\" >9.9852</td>\n",
       "            </tr>\n",
       "            <tr>\n",
       "                        <th id=\"T_077a8f64_144c_11eb_afe3_f8a2d602c6c4level0_row11\" class=\"row_heading level0 row11\" >11</th>\n",
       "                        <td id=\"T_077a8f64_144c_11eb_afe3_f8a2d602c6c4row11_col0\" class=\"data row11 col0\" >Random Forest Classifier</td>\n",
       "                        <td id=\"T_077a8f64_144c_11eb_afe3_f8a2d602c6c4row11_col1\" class=\"data row11 col1\" >0.5793</td>\n",
       "                        <td id=\"T_077a8f64_144c_11eb_afe3_f8a2d602c6c4row11_col2\" class=\"data row11 col2\" >0.6006</td>\n",
       "                        <td id=\"T_077a8f64_144c_11eb_afe3_f8a2d602c6c4row11_col3\" class=\"data row11 col3\" >0.4412</td>\n",
       "                        <td id=\"T_077a8f64_144c_11eb_afe3_f8a2d602c6c4row11_col4\" class=\"data row11 col4\" >0.5550</td>\n",
       "                        <td id=\"T_077a8f64_144c_11eb_afe3_f8a2d602c6c4row11_col5\" class=\"data row11 col5\" >0.4916</td>\n",
       "                        <td id=\"T_077a8f64_144c_11eb_afe3_f8a2d602c6c4row11_col6\" class=\"data row11 col6\" >0.1407</td>\n",
       "                        <td id=\"T_077a8f64_144c_11eb_afe3_f8a2d602c6c4row11_col7\" class=\"data row11 col7\" >0.1434</td>\n",
       "                        <td id=\"T_077a8f64_144c_11eb_afe3_f8a2d602c6c4row11_col8\" class=\"data row11 col8\" >1.0804</td>\n",
       "            </tr>\n",
       "            <tr>\n",
       "                        <th id=\"T_077a8f64_144c_11eb_afe3_f8a2d602c6c4level0_row12\" class=\"row_heading level0 row12\" >12</th>\n",
       "                        <td id=\"T_077a8f64_144c_11eb_afe3_f8a2d602c6c4row12_col0\" class=\"data row12 col0\" >SVM - Linear Kernel</td>\n",
       "                        <td id=\"T_077a8f64_144c_11eb_afe3_f8a2d602c6c4row12_col1\" class=\"data row12 col1\" >0.5675</td>\n",
       "                        <td id=\"T_077a8f64_144c_11eb_afe3_f8a2d602c6c4row12_col2\" class=\"data row12 col2\" >0.0000</td>\n",
       "                        <td id=\"T_077a8f64_144c_11eb_afe3_f8a2d602c6c4row12_col3\" class=\"data row12 col3\" >0.3200</td>\n",
       "                        <td id=\"T_077a8f64_144c_11eb_afe3_f8a2d602c6c4row12_col4\" class=\"data row12 col4\" >0.6566</td>\n",
       "                        <td id=\"T_077a8f64_144c_11eb_afe3_f8a2d602c6c4row12_col5\" class=\"data row12 col5\" >0.3251</td>\n",
       "                        <td id=\"T_077a8f64_144c_11eb_afe3_f8a2d602c6c4row12_col6\" class=\"data row12 col6\" >0.1011</td>\n",
       "                        <td id=\"T_077a8f64_144c_11eb_afe3_f8a2d602c6c4row12_col7\" class=\"data row12 col7\" >0.1478</td>\n",
       "                        <td id=\"T_077a8f64_144c_11eb_afe3_f8a2d602c6c4row12_col8\" class=\"data row12 col8\" >7.6534</td>\n",
       "            </tr>\n",
       "            <tr>\n",
       "                        <th id=\"T_077a8f64_144c_11eb_afe3_f8a2d602c6c4level0_row13\" class=\"row_heading level0 row13\" >13</th>\n",
       "                        <td id=\"T_077a8f64_144c_11eb_afe3_f8a2d602c6c4row13_col0\" class=\"data row13 col0\" >K Neighbors Classifier</td>\n",
       "                        <td id=\"T_077a8f64_144c_11eb_afe3_f8a2d602c6c4row13_col1\" class=\"data row13 col1\" >0.5613</td>\n",
       "                        <td id=\"T_077a8f64_144c_11eb_afe3_f8a2d602c6c4row13_col2\" class=\"data row13 col2\" >0.5741</td>\n",
       "                        <td id=\"T_077a8f64_144c_11eb_afe3_f8a2d602c6c4row13_col3\" class=\"data row13 col3\" >0.4652</td>\n",
       "                        <td id=\"T_077a8f64_144c_11eb_afe3_f8a2d602c6c4row13_col4\" class=\"data row13 col4\" >0.5273</td>\n",
       "                        <td id=\"T_077a8f64_144c_11eb_afe3_f8a2d602c6c4row13_col5\" class=\"data row13 col5\" >0.4943</td>\n",
       "                        <td id=\"T_077a8f64_144c_11eb_afe3_f8a2d602c6c4row13_col6\" class=\"data row13 col6\" >0.1095</td>\n",
       "                        <td id=\"T_077a8f64_144c_11eb_afe3_f8a2d602c6c4row13_col7\" class=\"data row13 col7\" >0.1102</td>\n",
       "                        <td id=\"T_077a8f64_144c_11eb_afe3_f8a2d602c6c4row13_col8\" class=\"data row13 col8\" >14.0951</td>\n",
       "            </tr>\n",
       "            <tr>\n",
       "                        <th id=\"T_077a8f64_144c_11eb_afe3_f8a2d602c6c4level0_row14\" class=\"row_heading level0 row14\" >14</th>\n",
       "                        <td id=\"T_077a8f64_144c_11eb_afe3_f8a2d602c6c4row14_col0\" class=\"data row14 col0\" >Decision Tree Classifier</td>\n",
       "                        <td id=\"T_077a8f64_144c_11eb_afe3_f8a2d602c6c4row14_col1\" class=\"data row14 col1\" >0.5450</td>\n",
       "                        <td id=\"T_077a8f64_144c_11eb_afe3_f8a2d602c6c4row14_col2\" class=\"data row14 col2\" >0.5427</td>\n",
       "                        <td id=\"T_077a8f64_144c_11eb_afe3_f8a2d602c6c4row14_col3\" class=\"data row14 col3\" >0.5150</td>\n",
       "                        <td id=\"T_077a8f64_144c_11eb_afe3_f8a2d602c6c4row14_col4\" class=\"data row14 col4\" >0.5063</td>\n",
       "                        <td id=\"T_077a8f64_144c_11eb_afe3_f8a2d602c6c4row14_col5\" class=\"data row14 col5\" >0.5106</td>\n",
       "                        <td id=\"T_077a8f64_144c_11eb_afe3_f8a2d602c6c4row14_col6\" class=\"data row14 col6\" >0.0855</td>\n",
       "                        <td id=\"T_077a8f64_144c_11eb_afe3_f8a2d602c6c4row14_col7\" class=\"data row14 col7\" >0.0855</td>\n",
       "                        <td id=\"T_077a8f64_144c_11eb_afe3_f8a2d602c6c4row14_col8\" class=\"data row14 col8\" >2.6407</td>\n",
       "            </tr>\n",
       "    </tbody></table>"
      ],
      "text/plain": [
       "<pandas.io.formats.style.Styler at 0x25a82c5b848>"
      ]
     },
     "metadata": {},
     "output_type": "display_data"
    }
   ],
   "source": [
    "best=compare_models()"
   ]
  },
  {
   "cell_type": "markdown",
   "metadata": {},
   "source": [
    "Pycaret shows us the best model is actually obtained using Gradient Boosting Classifier"
   ]
  },
  {
   "cell_type": "code",
   "execution_count": 31,
   "metadata": {},
   "outputs": [
    {
     "data": {
      "text/html": [
       "<style  type=\"text/css\" >\n",
       "#T_369c78b0_144d_11eb_92f0_f8a2d602c6c4row10_col0,#T_369c78b0_144d_11eb_92f0_f8a2d602c6c4row10_col1,#T_369c78b0_144d_11eb_92f0_f8a2d602c6c4row10_col2,#T_369c78b0_144d_11eb_92f0_f8a2d602c6c4row10_col3,#T_369c78b0_144d_11eb_92f0_f8a2d602c6c4row10_col4,#T_369c78b0_144d_11eb_92f0_f8a2d602c6c4row10_col5,#T_369c78b0_144d_11eb_92f0_f8a2d602c6c4row10_col6{\n",
       "            background:  yellow;\n",
       "        }</style><table id=\"T_369c78b0_144d_11eb_92f0_f8a2d602c6c4\" ><thead>    <tr>        <th class=\"blank level0\" ></th>        <th class=\"col_heading level0 col0\" >Accuracy</th>        <th class=\"col_heading level0 col1\" >AUC</th>        <th class=\"col_heading level0 col2\" >Recall</th>        <th class=\"col_heading level0 col3\" >Prec.</th>        <th class=\"col_heading level0 col4\" >F1</th>        <th class=\"col_heading level0 col5\" >Kappa</th>        <th class=\"col_heading level0 col6\" >MCC</th>    </tr></thead><tbody>\n",
       "                <tr>\n",
       "                        <th id=\"T_369c78b0_144d_11eb_92f0_f8a2d602c6c4level0_row0\" class=\"row_heading level0 row0\" >0</th>\n",
       "                        <td id=\"T_369c78b0_144d_11eb_92f0_f8a2d602c6c4row0_col0\" class=\"data row0 col0\" >0.6245</td>\n",
       "                        <td id=\"T_369c78b0_144d_11eb_92f0_f8a2d602c6c4row0_col1\" class=\"data row0 col1\" >0.6659</td>\n",
       "                        <td id=\"T_369c78b0_144d_11eb_92f0_f8a2d602c6c4row0_col2\" class=\"data row0 col2\" >0.4648</td>\n",
       "                        <td id=\"T_369c78b0_144d_11eb_92f0_f8a2d602c6c4row0_col3\" class=\"data row0 col3\" >0.6246</td>\n",
       "                        <td id=\"T_369c78b0_144d_11eb_92f0_f8a2d602c6c4row0_col4\" class=\"data row0 col4\" >0.5330</td>\n",
       "                        <td id=\"T_369c78b0_144d_11eb_92f0_f8a2d602c6c4row0_col5\" class=\"data row0 col5\" >0.2302</td>\n",
       "                        <td id=\"T_369c78b0_144d_11eb_92f0_f8a2d602c6c4row0_col6\" class=\"data row0 col6\" >0.2373</td>\n",
       "            </tr>\n",
       "            <tr>\n",
       "                        <th id=\"T_369c78b0_144d_11eb_92f0_f8a2d602c6c4level0_row1\" class=\"row_heading level0 row1\" >1</th>\n",
       "                        <td id=\"T_369c78b0_144d_11eb_92f0_f8a2d602c6c4row1_col0\" class=\"data row1 col0\" >0.6255</td>\n",
       "                        <td id=\"T_369c78b0_144d_11eb_92f0_f8a2d602c6c4row1_col1\" class=\"data row1 col1\" >0.6648</td>\n",
       "                        <td id=\"T_369c78b0_144d_11eb_92f0_f8a2d602c6c4row1_col2\" class=\"data row1 col2\" >0.4730</td>\n",
       "                        <td id=\"T_369c78b0_144d_11eb_92f0_f8a2d602c6c4row1_col3\" class=\"data row1 col3\" >0.6237</td>\n",
       "                        <td id=\"T_369c78b0_144d_11eb_92f0_f8a2d602c6c4row1_col4\" class=\"data row1 col4\" >0.5380</td>\n",
       "                        <td id=\"T_369c78b0_144d_11eb_92f0_f8a2d602c6c4row1_col5\" class=\"data row1 col5\" >0.2330</td>\n",
       "                        <td id=\"T_369c78b0_144d_11eb_92f0_f8a2d602c6c4row1_col6\" class=\"data row1 col6\" >0.2394</td>\n",
       "            </tr>\n",
       "            <tr>\n",
       "                        <th id=\"T_369c78b0_144d_11eb_92f0_f8a2d602c6c4level0_row2\" class=\"row_heading level0 row2\" >2</th>\n",
       "                        <td id=\"T_369c78b0_144d_11eb_92f0_f8a2d602c6c4row2_col0\" class=\"data row2 col0\" >0.6218</td>\n",
       "                        <td id=\"T_369c78b0_144d_11eb_92f0_f8a2d602c6c4row2_col1\" class=\"data row2 col1\" >0.6656</td>\n",
       "                        <td id=\"T_369c78b0_144d_11eb_92f0_f8a2d602c6c4row2_col2\" class=\"data row2 col2\" >0.4741</td>\n",
       "                        <td id=\"T_369c78b0_144d_11eb_92f0_f8a2d602c6c4row2_col3\" class=\"data row2 col3\" >0.6167</td>\n",
       "                        <td id=\"T_369c78b0_144d_11eb_92f0_f8a2d602c6c4row2_col4\" class=\"data row2 col4\" >0.5361</td>\n",
       "                        <td id=\"T_369c78b0_144d_11eb_92f0_f8a2d602c6c4row2_col5\" class=\"data row2 col5\" >0.2260</td>\n",
       "                        <td id=\"T_369c78b0_144d_11eb_92f0_f8a2d602c6c4row2_col6\" class=\"data row2 col6\" >0.2316</td>\n",
       "            </tr>\n",
       "            <tr>\n",
       "                        <th id=\"T_369c78b0_144d_11eb_92f0_f8a2d602c6c4level0_row3\" class=\"row_heading level0 row3\" >3</th>\n",
       "                        <td id=\"T_369c78b0_144d_11eb_92f0_f8a2d602c6c4row3_col0\" class=\"data row3 col0\" >0.6266</td>\n",
       "                        <td id=\"T_369c78b0_144d_11eb_92f0_f8a2d602c6c4row3_col1\" class=\"data row3 col1\" >0.6634</td>\n",
       "                        <td id=\"T_369c78b0_144d_11eb_92f0_f8a2d602c6c4row3_col2\" class=\"data row3 col2\" >0.4781</td>\n",
       "                        <td id=\"T_369c78b0_144d_11eb_92f0_f8a2d602c6c4row3_col3\" class=\"data row3 col3\" >0.6239</td>\n",
       "                        <td id=\"T_369c78b0_144d_11eb_92f0_f8a2d602c6c4row3_col4\" class=\"data row3 col4\" >0.5413</td>\n",
       "                        <td id=\"T_369c78b0_144d_11eb_92f0_f8a2d602c6c4row3_col5\" class=\"data row3 col5\" >0.2356</td>\n",
       "                        <td id=\"T_369c78b0_144d_11eb_92f0_f8a2d602c6c4row3_col6\" class=\"data row3 col6\" >0.2416</td>\n",
       "            </tr>\n",
       "            <tr>\n",
       "                        <th id=\"T_369c78b0_144d_11eb_92f0_f8a2d602c6c4level0_row4\" class=\"row_heading level0 row4\" >4</th>\n",
       "                        <td id=\"T_369c78b0_144d_11eb_92f0_f8a2d602c6c4row4_col0\" class=\"data row4 col0\" >0.6248</td>\n",
       "                        <td id=\"T_369c78b0_144d_11eb_92f0_f8a2d602c6c4row4_col1\" class=\"data row4 col1\" >0.6679</td>\n",
       "                        <td id=\"T_369c78b0_144d_11eb_92f0_f8a2d602c6c4row4_col2\" class=\"data row4 col2\" >0.4701</td>\n",
       "                        <td id=\"T_369c78b0_144d_11eb_92f0_f8a2d602c6c4row4_col3\" class=\"data row4 col3\" >0.6232</td>\n",
       "                        <td id=\"T_369c78b0_144d_11eb_92f0_f8a2d602c6c4row4_col4\" class=\"data row4 col4\" >0.5359</td>\n",
       "                        <td id=\"T_369c78b0_144d_11eb_92f0_f8a2d602c6c4row4_col5\" class=\"data row4 col5\" >0.2312</td>\n",
       "                        <td id=\"T_369c78b0_144d_11eb_92f0_f8a2d602c6c4row4_col6\" class=\"data row4 col6\" >0.2377</td>\n",
       "            </tr>\n",
       "            <tr>\n",
       "                        <th id=\"T_369c78b0_144d_11eb_92f0_f8a2d602c6c4level0_row5\" class=\"row_heading level0 row5\" >5</th>\n",
       "                        <td id=\"T_369c78b0_144d_11eb_92f0_f8a2d602c6c4row5_col0\" class=\"data row5 col0\" >0.6244</td>\n",
       "                        <td id=\"T_369c78b0_144d_11eb_92f0_f8a2d602c6c4row5_col1\" class=\"data row5 col1\" >0.6641</td>\n",
       "                        <td id=\"T_369c78b0_144d_11eb_92f0_f8a2d602c6c4row5_col2\" class=\"data row5 col2\" >0.4796</td>\n",
       "                        <td id=\"T_369c78b0_144d_11eb_92f0_f8a2d602c6c4row5_col3\" class=\"data row5 col3\" >0.6194</td>\n",
       "                        <td id=\"T_369c78b0_144d_11eb_92f0_f8a2d602c6c4row5_col4\" class=\"data row5 col4\" >0.5406</td>\n",
       "                        <td id=\"T_369c78b0_144d_11eb_92f0_f8a2d602c6c4row5_col5\" class=\"data row5 col5\" >0.2315</td>\n",
       "                        <td id=\"T_369c78b0_144d_11eb_92f0_f8a2d602c6c4row5_col6\" class=\"data row5 col6\" >0.2369</td>\n",
       "            </tr>\n",
       "            <tr>\n",
       "                        <th id=\"T_369c78b0_144d_11eb_92f0_f8a2d602c6c4level0_row6\" class=\"row_heading level0 row6\" >6</th>\n",
       "                        <td id=\"T_369c78b0_144d_11eb_92f0_f8a2d602c6c4row6_col0\" class=\"data row6 col0\" >0.6280</td>\n",
       "                        <td id=\"T_369c78b0_144d_11eb_92f0_f8a2d602c6c4row6_col1\" class=\"data row6 col1\" >0.6720</td>\n",
       "                        <td id=\"T_369c78b0_144d_11eb_92f0_f8a2d602c6c4row6_col2\" class=\"data row6 col2\" >0.4775</td>\n",
       "                        <td id=\"T_369c78b0_144d_11eb_92f0_f8a2d602c6c4row6_col3\" class=\"data row6 col3\" >0.6265</td>\n",
       "                        <td id=\"T_369c78b0_144d_11eb_92f0_f8a2d602c6c4row6_col4\" class=\"data row6 col4\" >0.5419</td>\n",
       "                        <td id=\"T_369c78b0_144d_11eb_92f0_f8a2d602c6c4row6_col5\" class=\"data row6 col5\" >0.2383</td>\n",
       "                        <td id=\"T_369c78b0_144d_11eb_92f0_f8a2d602c6c4row6_col6\" class=\"data row6 col6\" >0.2445</td>\n",
       "            </tr>\n",
       "            <tr>\n",
       "                        <th id=\"T_369c78b0_144d_11eb_92f0_f8a2d602c6c4level0_row7\" class=\"row_heading level0 row7\" >7</th>\n",
       "                        <td id=\"T_369c78b0_144d_11eb_92f0_f8a2d602c6c4row7_col0\" class=\"data row7 col0\" >0.6246</td>\n",
       "                        <td id=\"T_369c78b0_144d_11eb_92f0_f8a2d602c6c4row7_col1\" class=\"data row7 col1\" >0.6637</td>\n",
       "                        <td id=\"T_369c78b0_144d_11eb_92f0_f8a2d602c6c4row7_col2\" class=\"data row7 col2\" >0.4622</td>\n",
       "                        <td id=\"T_369c78b0_144d_11eb_92f0_f8a2d602c6c4row7_col3\" class=\"data row7 col3\" >0.6256</td>\n",
       "                        <td id=\"T_369c78b0_144d_11eb_92f0_f8a2d602c6c4row7_col4\" class=\"data row7 col4\" >0.5316</td>\n",
       "                        <td id=\"T_369c78b0_144d_11eb_92f0_f8a2d602c6c4row7_col5\" class=\"data row7 col5\" >0.2301</td>\n",
       "                        <td id=\"T_369c78b0_144d_11eb_92f0_f8a2d602c6c4row7_col6\" class=\"data row7 col6\" >0.2374</td>\n",
       "            </tr>\n",
       "            <tr>\n",
       "                        <th id=\"T_369c78b0_144d_11eb_92f0_f8a2d602c6c4level0_row8\" class=\"row_heading level0 row8\" >8</th>\n",
       "                        <td id=\"T_369c78b0_144d_11eb_92f0_f8a2d602c6c4row8_col0\" class=\"data row8 col0\" >0.6253</td>\n",
       "                        <td id=\"T_369c78b0_144d_11eb_92f0_f8a2d602c6c4row8_col1\" class=\"data row8 col1\" >0.6691</td>\n",
       "                        <td id=\"T_369c78b0_144d_11eb_92f0_f8a2d602c6c4row8_col2\" class=\"data row8 col2\" >0.4744</td>\n",
       "                        <td id=\"T_369c78b0_144d_11eb_92f0_f8a2d602c6c4row8_col3\" class=\"data row8 col3\" >0.6228</td>\n",
       "                        <td id=\"T_369c78b0_144d_11eb_92f0_f8a2d602c6c4row8_col4\" class=\"data row8 col4\" >0.5386</td>\n",
       "                        <td id=\"T_369c78b0_144d_11eb_92f0_f8a2d602c6c4row8_col5\" class=\"data row8 col5\" >0.2328</td>\n",
       "                        <td id=\"T_369c78b0_144d_11eb_92f0_f8a2d602c6c4row8_col6\" class=\"data row8 col6\" >0.2389</td>\n",
       "            </tr>\n",
       "            <tr>\n",
       "                        <th id=\"T_369c78b0_144d_11eb_92f0_f8a2d602c6c4level0_row9\" class=\"row_heading level0 row9\" >9</th>\n",
       "                        <td id=\"T_369c78b0_144d_11eb_92f0_f8a2d602c6c4row9_col0\" class=\"data row9 col0\" >0.6213</td>\n",
       "                        <td id=\"T_369c78b0_144d_11eb_92f0_f8a2d602c6c4row9_col1\" class=\"data row9 col1\" >0.6604</td>\n",
       "                        <td id=\"T_369c78b0_144d_11eb_92f0_f8a2d602c6c4row9_col2\" class=\"data row9 col2\" >0.4691</td>\n",
       "                        <td id=\"T_369c78b0_144d_11eb_92f0_f8a2d602c6c4row9_col3\" class=\"data row9 col3\" >0.6175</td>\n",
       "                        <td id=\"T_369c78b0_144d_11eb_92f0_f8a2d602c6c4row9_col4\" class=\"data row9 col4\" >0.5331</td>\n",
       "                        <td id=\"T_369c78b0_144d_11eb_92f0_f8a2d602c6c4row9_col5\" class=\"data row9 col5\" >0.2244</td>\n",
       "                        <td id=\"T_369c78b0_144d_11eb_92f0_f8a2d602c6c4row9_col6\" class=\"data row9 col6\" >0.2304</td>\n",
       "            </tr>\n",
       "            <tr>\n",
       "                        <th id=\"T_369c78b0_144d_11eb_92f0_f8a2d602c6c4level0_row10\" class=\"row_heading level0 row10\" >Mean</th>\n",
       "                        <td id=\"T_369c78b0_144d_11eb_92f0_f8a2d602c6c4row10_col0\" class=\"data row10 col0\" >0.6247</td>\n",
       "                        <td id=\"T_369c78b0_144d_11eb_92f0_f8a2d602c6c4row10_col1\" class=\"data row10 col1\" >0.6657</td>\n",
       "                        <td id=\"T_369c78b0_144d_11eb_92f0_f8a2d602c6c4row10_col2\" class=\"data row10 col2\" >0.4723</td>\n",
       "                        <td id=\"T_369c78b0_144d_11eb_92f0_f8a2d602c6c4row10_col3\" class=\"data row10 col3\" >0.6224</td>\n",
       "                        <td id=\"T_369c78b0_144d_11eb_92f0_f8a2d602c6c4row10_col4\" class=\"data row10 col4\" >0.5370</td>\n",
       "                        <td id=\"T_369c78b0_144d_11eb_92f0_f8a2d602c6c4row10_col5\" class=\"data row10 col5\" >0.2313</td>\n",
       "                        <td id=\"T_369c78b0_144d_11eb_92f0_f8a2d602c6c4row10_col6\" class=\"data row10 col6\" >0.2376</td>\n",
       "            </tr>\n",
       "            <tr>\n",
       "                        <th id=\"T_369c78b0_144d_11eb_92f0_f8a2d602c6c4level0_row11\" class=\"row_heading level0 row11\" >SD</th>\n",
       "                        <td id=\"T_369c78b0_144d_11eb_92f0_f8a2d602c6c4row11_col0\" class=\"data row11 col0\" >0.0019</td>\n",
       "                        <td id=\"T_369c78b0_144d_11eb_92f0_f8a2d602c6c4row11_col1\" class=\"data row11 col1\" >0.0031</td>\n",
       "                        <td id=\"T_369c78b0_144d_11eb_92f0_f8a2d602c6c4row11_col2\" class=\"data row11 col2\" >0.0054</td>\n",
       "                        <td id=\"T_369c78b0_144d_11eb_92f0_f8a2d602c6c4row11_col3\" class=\"data row11 col3\" >0.0032</td>\n",
       "                        <td id=\"T_369c78b0_144d_11eb_92f0_f8a2d602c6c4row11_col4\" class=\"data row11 col4\" >0.0035</td>\n",
       "                        <td id=\"T_369c78b0_144d_11eb_92f0_f8a2d602c6c4row11_col5\" class=\"data row11 col5\" >0.0039</td>\n",
       "                        <td id=\"T_369c78b0_144d_11eb_92f0_f8a2d602c6c4row11_col6\" class=\"data row11 col6\" >0.0040</td>\n",
       "            </tr>\n",
       "    </tbody></table>"
      ],
      "text/plain": [
       "<pandas.io.formats.style.Styler at 0x25a82ef0688>"
      ]
     },
     "metadata": {},
     "output_type": "display_data"
    }
   ],
   "source": [
    "model=create_model('gbc')"
   ]
  },
  {
   "cell_type": "markdown",
   "metadata": {},
   "source": [
    "Here we see the best parameters obtained by Gradient Boosting Classifier"
   ]
  },
  {
   "cell_type": "code",
   "execution_count": 32,
   "metadata": {},
   "outputs": [
    {
     "data": {
      "text/html": [
       "<style  type=\"text/css\" >\n",
       "#T_f2829af6_1453_11eb_a587_f8a2d602c6c4row10_col0,#T_f2829af6_1453_11eb_a587_f8a2d602c6c4row10_col1,#T_f2829af6_1453_11eb_a587_f8a2d602c6c4row10_col2,#T_f2829af6_1453_11eb_a587_f8a2d602c6c4row10_col3,#T_f2829af6_1453_11eb_a587_f8a2d602c6c4row10_col4,#T_f2829af6_1453_11eb_a587_f8a2d602c6c4row10_col5,#T_f2829af6_1453_11eb_a587_f8a2d602c6c4row10_col6{\n",
       "            background:  yellow;\n",
       "        }</style><table id=\"T_f2829af6_1453_11eb_a587_f8a2d602c6c4\" ><thead>    <tr>        <th class=\"blank level0\" ></th>        <th class=\"col_heading level0 col0\" >Accuracy</th>        <th class=\"col_heading level0 col1\" >AUC</th>        <th class=\"col_heading level0 col2\" >Recall</th>        <th class=\"col_heading level0 col3\" >Prec.</th>        <th class=\"col_heading level0 col4\" >F1</th>        <th class=\"col_heading level0 col5\" >Kappa</th>        <th class=\"col_heading level0 col6\" >MCC</th>    </tr></thead><tbody>\n",
       "                <tr>\n",
       "                        <th id=\"T_f2829af6_1453_11eb_a587_f8a2d602c6c4level0_row0\" class=\"row_heading level0 row0\" >0</th>\n",
       "                        <td id=\"T_f2829af6_1453_11eb_a587_f8a2d602c6c4row0_col0\" class=\"data row0 col0\" >0.5965</td>\n",
       "                        <td id=\"T_f2829af6_1453_11eb_a587_f8a2d602c6c4row0_col1\" class=\"data row0 col1\" >0.6263</td>\n",
       "                        <td id=\"T_f2829af6_1453_11eb_a587_f8a2d602c6c4row0_col2\" class=\"data row0 col2\" >0.3667</td>\n",
       "                        <td id=\"T_f2829af6_1453_11eb_a587_f8a2d602c6c4row0_col3\" class=\"data row0 col3\" >0.6023</td>\n",
       "                        <td id=\"T_f2829af6_1453_11eb_a587_f8a2d602c6c4row0_col4\" class=\"data row0 col4\" >0.4559</td>\n",
       "                        <td id=\"T_f2829af6_1453_11eb_a587_f8a2d602c6c4row0_col5\" class=\"data row0 col5\" >0.1643</td>\n",
       "                        <td id=\"T_f2829af6_1453_11eb_a587_f8a2d602c6c4row0_col6\" class=\"data row0 col6\" >0.1771</td>\n",
       "            </tr>\n",
       "            <tr>\n",
       "                        <th id=\"T_f2829af6_1453_11eb_a587_f8a2d602c6c4level0_row1\" class=\"row_heading level0 row1\" >1</th>\n",
       "                        <td id=\"T_f2829af6_1453_11eb_a587_f8a2d602c6c4row1_col0\" class=\"data row1 col0\" >0.5977</td>\n",
       "                        <td id=\"T_f2829af6_1453_11eb_a587_f8a2d602c6c4row1_col1\" class=\"data row1 col1\" >0.6307</td>\n",
       "                        <td id=\"T_f2829af6_1453_11eb_a587_f8a2d602c6c4row1_col2\" class=\"data row1 col2\" >0.3680</td>\n",
       "                        <td id=\"T_f2829af6_1453_11eb_a587_f8a2d602c6c4row1_col3\" class=\"data row1 col3\" >0.6046</td>\n",
       "                        <td id=\"T_f2829af6_1453_11eb_a587_f8a2d602c6c4row1_col4\" class=\"data row1 col4\" >0.4575</td>\n",
       "                        <td id=\"T_f2829af6_1453_11eb_a587_f8a2d602c6c4row1_col5\" class=\"data row1 col5\" >0.1669</td>\n",
       "                        <td id=\"T_f2829af6_1453_11eb_a587_f8a2d602c6c4row1_col6\" class=\"data row1 col6\" >0.1799</td>\n",
       "            </tr>\n",
       "            <tr>\n",
       "                        <th id=\"T_f2829af6_1453_11eb_a587_f8a2d602c6c4level0_row2\" class=\"row_heading level0 row2\" >2</th>\n",
       "                        <td id=\"T_f2829af6_1453_11eb_a587_f8a2d602c6c4row2_col0\" class=\"data row2 col0\" >0.5957</td>\n",
       "                        <td id=\"T_f2829af6_1453_11eb_a587_f8a2d602c6c4row2_col1\" class=\"data row2 col1\" >0.6190</td>\n",
       "                        <td id=\"T_f2829af6_1453_11eb_a587_f8a2d602c6c4row2_col2\" class=\"data row2 col2\" >0.3595</td>\n",
       "                        <td id=\"T_f2829af6_1453_11eb_a587_f8a2d602c6c4row2_col3\" class=\"data row2 col3\" >0.6030</td>\n",
       "                        <td id=\"T_f2829af6_1453_11eb_a587_f8a2d602c6c4row2_col4\" class=\"data row2 col4\" >0.4505</td>\n",
       "                        <td id=\"T_f2829af6_1453_11eb_a587_f8a2d602c6c4row2_col5\" class=\"data row2 col5\" >0.1619</td>\n",
       "                        <td id=\"T_f2829af6_1453_11eb_a587_f8a2d602c6c4row2_col6\" class=\"data row2 col6\" >0.1755</td>\n",
       "            </tr>\n",
       "            <tr>\n",
       "                        <th id=\"T_f2829af6_1453_11eb_a587_f8a2d602c6c4level0_row3\" class=\"row_heading level0 row3\" >3</th>\n",
       "                        <td id=\"T_f2829af6_1453_11eb_a587_f8a2d602c6c4row3_col0\" class=\"data row3 col0\" >0.5947</td>\n",
       "                        <td id=\"T_f2829af6_1453_11eb_a587_f8a2d602c6c4row3_col1\" class=\"data row3 col1\" >0.6275</td>\n",
       "                        <td id=\"T_f2829af6_1453_11eb_a587_f8a2d602c6c4row3_col2\" class=\"data row3 col2\" >0.3641</td>\n",
       "                        <td id=\"T_f2829af6_1453_11eb_a587_f8a2d602c6c4row3_col3\" class=\"data row3 col3\" >0.5993</td>\n",
       "                        <td id=\"T_f2829af6_1453_11eb_a587_f8a2d602c6c4row3_col4\" class=\"data row3 col4\" >0.4530</td>\n",
       "                        <td id=\"T_f2829af6_1453_11eb_a587_f8a2d602c6c4row3_col5\" class=\"data row3 col5\" >0.1606</td>\n",
       "                        <td id=\"T_f2829af6_1453_11eb_a587_f8a2d602c6c4row3_col6\" class=\"data row3 col6\" >0.1732</td>\n",
       "            </tr>\n",
       "            <tr>\n",
       "                        <th id=\"T_f2829af6_1453_11eb_a587_f8a2d602c6c4level0_row4\" class=\"row_heading level0 row4\" >4</th>\n",
       "                        <td id=\"T_f2829af6_1453_11eb_a587_f8a2d602c6c4row4_col0\" class=\"data row4 col0\" >0.5953</td>\n",
       "                        <td id=\"T_f2829af6_1453_11eb_a587_f8a2d602c6c4row4_col1\" class=\"data row4 col1\" >0.6236</td>\n",
       "                        <td id=\"T_f2829af6_1453_11eb_a587_f8a2d602c6c4row4_col2\" class=\"data row4 col2\" >0.3495</td>\n",
       "                        <td id=\"T_f2829af6_1453_11eb_a587_f8a2d602c6c4row4_col3\" class=\"data row4 col3\" >0.6056</td>\n",
       "                        <td id=\"T_f2829af6_1453_11eb_a587_f8a2d602c6c4row4_col4\" class=\"data row4 col4\" >0.4432</td>\n",
       "                        <td id=\"T_f2829af6_1453_11eb_a587_f8a2d602c6c4row4_col5\" class=\"data row4 col5\" >0.1598</td>\n",
       "                        <td id=\"T_f2829af6_1453_11eb_a587_f8a2d602c6c4row4_col6\" class=\"data row4 col6\" >0.1747</td>\n",
       "            </tr>\n",
       "            <tr>\n",
       "                        <th id=\"T_f2829af6_1453_11eb_a587_f8a2d602c6c4level0_row5\" class=\"row_heading level0 row5\" >5</th>\n",
       "                        <td id=\"T_f2829af6_1453_11eb_a587_f8a2d602c6c4row5_col0\" class=\"data row5 col0\" >0.5933</td>\n",
       "                        <td id=\"T_f2829af6_1453_11eb_a587_f8a2d602c6c4row5_col1\" class=\"data row5 col1\" >0.6248</td>\n",
       "                        <td id=\"T_f2829af6_1453_11eb_a587_f8a2d602c6c4row5_col2\" class=\"data row5 col2\" >0.3556</td>\n",
       "                        <td id=\"T_f2829af6_1453_11eb_a587_f8a2d602c6c4row5_col3\" class=\"data row5 col3\" >0.5991</td>\n",
       "                        <td id=\"T_f2829af6_1453_11eb_a587_f8a2d602c6c4row5_col4\" class=\"data row5 col4\" >0.4463</td>\n",
       "                        <td id=\"T_f2829af6_1453_11eb_a587_f8a2d602c6c4row5_col5\" class=\"data row5 col5\" >0.1568</td>\n",
       "                        <td id=\"T_f2829af6_1453_11eb_a587_f8a2d602c6c4row5_col6\" class=\"data row5 col6\" >0.1701</td>\n",
       "            </tr>\n",
       "            <tr>\n",
       "                        <th id=\"T_f2829af6_1453_11eb_a587_f8a2d602c6c4level0_row6\" class=\"row_heading level0 row6\" >6</th>\n",
       "                        <td id=\"T_f2829af6_1453_11eb_a587_f8a2d602c6c4row6_col0\" class=\"data row6 col0\" >0.5970</td>\n",
       "                        <td id=\"T_f2829af6_1453_11eb_a587_f8a2d602c6c4row6_col1\" class=\"data row6 col1\" >0.6311</td>\n",
       "                        <td id=\"T_f2829af6_1453_11eb_a587_f8a2d602c6c4row6_col2\" class=\"data row6 col2\" >0.3473</td>\n",
       "                        <td id=\"T_f2829af6_1453_11eb_a587_f8a2d602c6c4row6_col3\" class=\"data row6 col3\" >0.6103</td>\n",
       "                        <td id=\"T_f2829af6_1453_11eb_a587_f8a2d602c6c4row6_col4\" class=\"data row6 col4\" >0.4427</td>\n",
       "                        <td id=\"T_f2829af6_1453_11eb_a587_f8a2d602c6c4row6_col5\" class=\"data row6 col5\" >0.1628</td>\n",
       "                        <td id=\"T_f2829af6_1453_11eb_a587_f8a2d602c6c4row6_col6\" class=\"data row6 col6\" >0.1787</td>\n",
       "            </tr>\n",
       "            <tr>\n",
       "                        <th id=\"T_f2829af6_1453_11eb_a587_f8a2d602c6c4level0_row7\" class=\"row_heading level0 row7\" >7</th>\n",
       "                        <td id=\"T_f2829af6_1453_11eb_a587_f8a2d602c6c4row7_col0\" class=\"data row7 col0\" >0.5902</td>\n",
       "                        <td id=\"T_f2829af6_1453_11eb_a587_f8a2d602c6c4row7_col1\" class=\"data row7 col1\" >0.6225</td>\n",
       "                        <td id=\"T_f2829af6_1453_11eb_a587_f8a2d602c6c4row7_col2\" class=\"data row7 col2\" >0.3443</td>\n",
       "                        <td id=\"T_f2829af6_1453_11eb_a587_f8a2d602c6c4row7_col3\" class=\"data row7 col3\" >0.5960</td>\n",
       "                        <td id=\"T_f2829af6_1453_11eb_a587_f8a2d602c6c4row7_col4\" class=\"data row7 col4\" >0.4365</td>\n",
       "                        <td id=\"T_f2829af6_1453_11eb_a587_f8a2d602c6c4row7_col5\" class=\"data row7 col5\" >0.1493</td>\n",
       "                        <td id=\"T_f2829af6_1453_11eb_a587_f8a2d602c6c4row7_col6\" class=\"data row7 col6\" >0.1633</td>\n",
       "            </tr>\n",
       "            <tr>\n",
       "                        <th id=\"T_f2829af6_1453_11eb_a587_f8a2d602c6c4level0_row8\" class=\"row_heading level0 row8\" >8</th>\n",
       "                        <td id=\"T_f2829af6_1453_11eb_a587_f8a2d602c6c4row8_col0\" class=\"data row8 col0\" >0.5956</td>\n",
       "                        <td id=\"T_f2829af6_1453_11eb_a587_f8a2d602c6c4row8_col1\" class=\"data row8 col1\" >0.6264</td>\n",
       "                        <td id=\"T_f2829af6_1453_11eb_a587_f8a2d602c6c4row8_col2\" class=\"data row8 col2\" >0.3617</td>\n",
       "                        <td id=\"T_f2829af6_1453_11eb_a587_f8a2d602c6c4row8_col3\" class=\"data row8 col3\" >0.6019</td>\n",
       "                        <td id=\"T_f2829af6_1453_11eb_a587_f8a2d602c6c4row8_col4\" class=\"data row8 col4\" >0.4518</td>\n",
       "                        <td id=\"T_f2829af6_1453_11eb_a587_f8a2d602c6c4row8_col5\" class=\"data row8 col5\" >0.1619</td>\n",
       "                        <td id=\"T_f2829af6_1453_11eb_a587_f8a2d602c6c4row8_col6\" class=\"data row8 col6\" >0.1751</td>\n",
       "            </tr>\n",
       "            <tr>\n",
       "                        <th id=\"T_f2829af6_1453_11eb_a587_f8a2d602c6c4level0_row9\" class=\"row_heading level0 row9\" >9</th>\n",
       "                        <td id=\"T_f2829af6_1453_11eb_a587_f8a2d602c6c4row9_col0\" class=\"data row9 col0\" >0.5864</td>\n",
       "                        <td id=\"T_f2829af6_1453_11eb_a587_f8a2d602c6c4row9_col1\" class=\"data row9 col1\" >0.6141</td>\n",
       "                        <td id=\"T_f2829af6_1453_11eb_a587_f8a2d602c6c4row9_col2\" class=\"data row9 col2\" >0.3515</td>\n",
       "                        <td id=\"T_f2829af6_1453_11eb_a587_f8a2d602c6c4row9_col3\" class=\"data row9 col3\" >0.5858</td>\n",
       "                        <td id=\"T_f2829af6_1453_11eb_a587_f8a2d602c6c4row9_col4\" class=\"data row9 col4\" >0.4394</td>\n",
       "                        <td id=\"T_f2829af6_1453_11eb_a587_f8a2d602c6c4row9_col5\" class=\"data row9 col5\" >0.1430</td>\n",
       "                        <td id=\"T_f2829af6_1453_11eb_a587_f8a2d602c6c4row9_col6\" class=\"data row9 col6\" >0.1548</td>\n",
       "            </tr>\n",
       "            <tr>\n",
       "                        <th id=\"T_f2829af6_1453_11eb_a587_f8a2d602c6c4level0_row10\" class=\"row_heading level0 row10\" >Mean</th>\n",
       "                        <td id=\"T_f2829af6_1453_11eb_a587_f8a2d602c6c4row10_col0\" class=\"data row10 col0\" >0.5942</td>\n",
       "                        <td id=\"T_f2829af6_1453_11eb_a587_f8a2d602c6c4row10_col1\" class=\"data row10 col1\" >0.6246</td>\n",
       "                        <td id=\"T_f2829af6_1453_11eb_a587_f8a2d602c6c4row10_col2\" class=\"data row10 col2\" >0.3568</td>\n",
       "                        <td id=\"T_f2829af6_1453_11eb_a587_f8a2d602c6c4row10_col3\" class=\"data row10 col3\" >0.6008</td>\n",
       "                        <td id=\"T_f2829af6_1453_11eb_a587_f8a2d602c6c4row10_col4\" class=\"data row10 col4\" >0.4477</td>\n",
       "                        <td id=\"T_f2829af6_1453_11eb_a587_f8a2d602c6c4row10_col5\" class=\"data row10 col5\" >0.1587</td>\n",
       "                        <td id=\"T_f2829af6_1453_11eb_a587_f8a2d602c6c4row10_col6\" class=\"data row10 col6\" >0.1722</td>\n",
       "            </tr>\n",
       "            <tr>\n",
       "                        <th id=\"T_f2829af6_1453_11eb_a587_f8a2d602c6c4level0_row11\" class=\"row_heading level0 row11\" >SD</th>\n",
       "                        <td id=\"T_f2829af6_1453_11eb_a587_f8a2d602c6c4row11_col0\" class=\"data row11 col0\" >0.0033</td>\n",
       "                        <td id=\"T_f2829af6_1453_11eb_a587_f8a2d602c6c4row11_col1\" class=\"data row11 col1\" >0.0049</td>\n",
       "                        <td id=\"T_f2829af6_1453_11eb_a587_f8a2d602c6c4row11_col2\" class=\"data row11 col2\" >0.0080</td>\n",
       "                        <td id=\"T_f2829af6_1453_11eb_a587_f8a2d602c6c4row11_col3\" class=\"data row11 col3\" >0.0062</td>\n",
       "                        <td id=\"T_f2829af6_1453_11eb_a587_f8a2d602c6c4row11_col4\" class=\"data row11 col4\" >0.0068</td>\n",
       "                        <td id=\"T_f2829af6_1453_11eb_a587_f8a2d602c6c4row11_col5\" class=\"data row11 col5\" >0.0069</td>\n",
       "                        <td id=\"T_f2829af6_1453_11eb_a587_f8a2d602c6c4row11_col6\" class=\"data row11 col6\" >0.0074</td>\n",
       "            </tr>\n",
       "    </tbody></table>"
      ],
      "text/plain": [
       "<pandas.io.formats.style.Styler at 0x25a8326d408>"
      ]
     },
     "metadata": {},
     "output_type": "display_data"
    }
   ],
   "source": [
    "tuned_gbc=tune_model(model)"
   ]
  },
  {
   "cell_type": "markdown",
   "metadata": {},
   "source": [
    "Here we see that parameters are better without tunning..."
   ]
  },
  {
   "cell_type": "code",
   "execution_count": 34,
   "metadata": {},
   "outputs": [
    {
     "data": {
      "image/png": "[encoded data removed]",
      "text/plain": [
       "<Figure size 576x396 with 1 Axes>"
      ]
     },
     "metadata": {},
     "output_type": "display_data"
    }
   ],
   "source": [
    "plot_model(best, plot='auc')"
   ]
  },
  {
   "cell_type": "markdown",
   "metadata": {},
   "source": [
    "# HyperParameter Tunning"
   ]
  },
  {
   "cell_type": "markdown",
   "metadata": {},
   "source": [
    "Unfortunatly my computer doesn't manage this part (it takes too much time to run the code...)"
   ]
  },
  {
   "cell_type": "markdown",
   "metadata": {},
   "source": [
    "# Model Evaluation"
   ]
  },
  {
   "cell_type": "markdown",
   "metadata": {},
   "source": [
    "Let's see what our model is worth after validation"
   ]
  },
  {
   "cell_type": "markdown",
   "metadata": {},
   "source": [
    "## Baseline model"
   ]
  },
  {
   "cell_type": "code",
   "execution_count": 42,
   "metadata": {},
   "outputs": [
    {
     "name": "stdout",
     "output_type": "stream",
     "text": [
      "[[12389  4064]\n",
      " [ 7508  6559]]\n",
      "Accuracy Score: 0.62\n",
      "Recall Score: 0.47\n",
      "Precision Score: 0.62\n",
      "F1 Score: 0.53\n",
      "AUC Score: 0.66\n"
     ]
    }
   ],
   "source": [
    "base = GradientBoostingClassifier()\n",
    "base.fit(X_train, y_train)\n",
    "print(confusion_matrix(y_test, base.predict(X_test)))\n",
    "print('Accuracy Score: '+str(accuracy_score(y_test, base.predict(X_test)).round(2)))\n",
    "print('Recall Score: '+str(recall_score(y_test,base.predict(X_test)).round(2)))\n",
    "print('Precision Score: '+str(precision_score(y_test, base.predict(X_test)).round(2)))\n",
    "print('F1 Score: '+str(f1_score(y_test,base.predict(X_test)).round(2)))\n",
    "print('AUC Score: '+str(roc_auc_score(y_test, base.predict_proba(X_test)[:,1]).round(2)))"
   ]
  },
  {
   "cell_type": "markdown",
   "metadata": {},
   "source": [
    "## Pipe model"
   ]
  },
  {
   "cell_type": "code",
   "execution_count": 37,
   "metadata": {},
   "outputs": [
    {
     "name": "stdout",
     "output_type": "stream",
     "text": [
      "[[10126  3584]\n",
      " [ 6013  5710]]\n",
      "Accuracy Score: 0.62\n",
      "Recall Score: 0.49\n",
      "Precision Score: 0.61\n",
      "F1 Score: 0.54\n",
      "AUC Score: 0.66\n"
     ]
    }
   ],
   "source": [
    "y_pred = pipe.predict(X_test)\n",
    "print(confusion_matrix(y_test, y_pred))\n",
    "print('Accuracy Score: '+str(accuracy_score(y_test, y_pred).round(2)))\n",
    "print('Recall Score: '+str(recall_score(y_test, y_pred).round(2)))\n",
    "print('Precision Score: '+str(precision_score(y_test, y_pred).round(2)))\n",
    "print('F1 Score: '+str(f1_score(y_test,y_pred).round(2)))\n",
    "print('AUC Score: '+str(roc_auc_score(y_test,  pipe.predict_proba(X_test)[:,1]).round(2)))"
   ]
  },
  {
   "cell_type": "markdown",
   "metadata": {},
   "source": [
    "We obtain better scores with the baseline model of AdaBoost, which are quite similar with Pycaret results"
   ]
  },
  {
   "cell_type": "markdown",
   "metadata": {},
   "source": [
    "# Features importance "
   ]
  },
  {
   "cell_type": "code",
   "execution_count": 52,
   "metadata": {},
   "outputs": [],
   "source": [
    "dct = {X_train.columns[i]:base.feature_importances_[i] for i in range(X_train.shape[1])}"
   ]
  },
  {
   "cell_type": "code",
   "execution_count": 71,
   "metadata": {},
   "outputs": [
    {
     "data": {
      "text/plain": [
       "<BarContainer object of 28 artists>"
      ]
     },
     "execution_count": 71,
     "metadata": {},
     "output_type": "execute_result"
    },
    {
     "data": {
      "image/png": "[encoded data removed]",
      "text/plain": [
       "<Figure size 432x288 with 1 Axes>"
      ]
     },
     "metadata": {
      "needs_background": "light"
     },
     "output_type": "display_data"
    }
   ],
   "source": [
    "plt.bar(dct.keys(), dct.values())"
   ]
  },
  {
   "cell_type": "code",
   "execution_count": 79,
   "metadata": {},
   "outputs": [
    {
     "data": {
      "text/plain": [
       "<BarContainer object of 28 artists>"
      ]
     },
     "execution_count": 79,
     "metadata": {},
     "output_type": "execute_result"
    },
    {
     "data": {
      "image/png": "[encoded data removed]",
      "text/plain": [
       "<Figure size 432x288 with 1 Axes>"
      ]
     },
     "metadata": {
      "needs_background": "light"
     },
     "output_type": "display_data"
    }
   ],
   "source": [
    "name=list(dct.keys())\n",
    "value=list(dct.values())\n",
    "plt.barh(name, value, align = 'center')"
   ]
  },
  {
   "cell_type": "code",
   "execution_count": null,
   "metadata": {},
   "outputs": [],
   "source": []
  }
 ],
 "metadata": {
  "kernelspec": {
   "display_name": "Python 3",
   "language": "python",
   "name": "python3"
  },
  "language_info": {
   "codemirror_mode": {
    "name": "ipython",
    "version": 3
   },
   "file_extension": ".py",
   "mimetype": "text/x-python",
   "name": "python",
   "nbconvert_exporter": "python",
   "pygments_lexer": "ipython3",
   "version": "3.7.6"
  }
 },
 "nbformat": 4,
 "nbformat_minor": 4
}
